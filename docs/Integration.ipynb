{
 "cells": [
  {
   "cell_type": "markdown",
   "metadata": {},
   "source": [
    "#### [  [HOME](http://ifni.co) | [Bi](http://ifni.co/bi/TOC.html) ]"
   ]
  },
  {
   "cell_type": "code",
   "execution_count": 2,
   "metadata": {
    "collapsed": true,
    "deletable": true,
    "editable": true
   },
   "outputs": [],
   "source": [
    "%matplotlib inline\n",
    "\n",
    "import sys\n",
    "sys.path.append('../lib')"
   ]
  },
  {
   "cell_type": "markdown",
   "metadata": {
    "collapsed": true,
    "deletable": true,
    "editable": true
   },
   "source": [
    "# Integration\n",
    "\n",
    "This chapter would explore the ways to integrate Bi with Neuro networks and other systems.\n",
    "\n",
    "There are probably numerous was to integrate systems like Neuro Networks, Numenta Grok, general Programming languages. Currently we will look into only one of them.\n",
    "\n",
    "The easiest way to use any system with Bi is via ATOMS. What do I mean ?\n",
    "Let's take for example neuro network that does classification. The end result of classification is a LABEL, which in Bi lingo corresponds to a SYMBOL/ATOM. So we can just use this label directly in Bi.\n",
    "\n",
    "### Summing numbers with MNIST\n",
    "\n",
    "Lets take the simple example of summing numbers.\n",
    "We will use MNIST image database of handwritten digits as input and as a result we expect the sum of the numbers respresented by those two images.\n",
    "\n",
    "Here is the work-flow :\n",
    "\n",
    "  - Train NN on the MNIST database to recognize the numbers represented by the images.\n",
    "  - Pick randomly two images of a two numbers\n",
    "  - Pass them trough the NN and get back the recognized numbers as ATOMS\n",
    "  - Sum the numbers (via Bi program)\n",
    "  \n",
    "Good so far ... except v0.1 does not support arithmetic, but don't fret we will think of something and at the same time learn some Prolog/Bi. What's not to like ;) \n",
    "\n",
    "The Bi/Prolog program will look like this :"
   ]
  },
  {
   "cell_type": "markdown",
   "metadata": {
    "deletable": true,
    "editable": true
   },
   "source": [
    "```prolog\n",
    "next(0,1).\n",
    "next(1,2).\n",
    "next(2,3).\n",
    "next(3,4).\n",
    "next(4,5).\n",
    "next(5,6).\n",
    "next(6,7).\n",
    "next(7,8).\n",
    "next(8,9).\n",
    "next(9,10).\n",
    "next(10,11).\n",
    "next(11,12).\n",
    "next(12,13).\n",
    "next(13,14).\n",
    "next(14,15).\n",
    "next(15,16).\n",
    "next(16,17).\n",
    "next(17,18).\n",
    "next(18,19).\n",
    "next(19,20).\n",
    "\n",
    "prev(A,B) :- next(B,A).\n",
    "sum(S,0,S).\n",
    "sum(A,B,S) :- next(A,A1), prev(B,B1), sum(A1,B1,S).\n",
    "```"
   ]
  },
  {
   "cell_type": "markdown",
   "metadata": {
    "deletable": true,
    "editable": true
   },
   "source": [
    "Because we can't do arithmetic we start with definition of successors for the numbers between 0 .. 20. That will be the maximum sum we can have. BTW this app is simply illustration of how to integrate the two systems, not an attempt to implement arithmetic.\n",
    "\n",
    "I provided a class that implements the whole integration, once we are done with this tutorial look at the code."
   ]
  },
  {
   "cell_type": "code",
   "execution_count": 3,
   "metadata": {
    "collapsed": false,
    "deletable": true,
    "editable": true
   },
   "outputs": [
    {
     "name": "stderr",
     "output_type": "stream",
     "text": [
      "Using Theano backend.\n"
     ]
    }
   ],
   "source": [
    "import os\n",
    "os.chdir('../test')\n",
    "from integrate import *"
   ]
  },
  {
   "cell_type": "markdown",
   "metadata": {
    "deletable": true,
    "editable": true
   },
   "source": [
    "On initialization the class will load the MNIST database so that we can pick images for input for the NN.\n",
    "\n",
    "Also it will load the pre-compiled Convolution NN model. (You can also run the training separately by running mnist_cnn.py, but it takes close to one hour, that is why I precompiled it for you. BTW it uses Keras NN framework, which can work on top of Theano or TensorFlow).\n",
    "\n",
    "And third by default we will use [CUPInteger](More_CUPS.ipynb) module to handle the number-atoms. You can switch it off if you want by passing a flag : **cupi=False**."
   ]
  },
  {
   "cell_type": "code",
   "execution_count": 4,
   "metadata": {
    "collapsed": false,
    "deletable": true,
    "editable": true
   },
   "outputs": [
    {
     "name": "stderr",
     "output_type": "stream",
     "text": [
      "Using <ints> .....\n",
      "loading MNIST model and weights ...\n",
      "loading MNIST ...\n"
     ]
    }
   ],
   "source": [
    "it = Integrate()"
   ]
  },
  {
   "cell_type": "markdown",
   "metadata": {
    "deletable": true,
    "editable": true
   },
   "source": [
    "Now lets get back to the code. To simulate summation, we need first to learn to count.\n",
    "This as you saw is done by adding the successor numbers as facts in the KDB. Lets try and see if it works :"
   ]
  },
  {
   "cell_type": "code",
   "execution_count": 5,
   "metadata": {
    "collapsed": false,
    "deletable": true,
    "editable": true
   },
   "outputs": [
    {
     "data": {
      "text/plain": [
       "{'Next': '6'}"
      ]
     },
     "execution_count": 5,
     "metadata": {},
     "output_type": "execute_result"
    }
   ],
   "source": [
    "it.eng.query('next', ['5', 'Next'])"
   ]
  },
  {
   "cell_type": "markdown",
   "metadata": {
    "deletable": true,
    "editable": true
   },
   "source": [
    "Again don't forget we use string that starts with Upper_case for variables.\n",
    "\n",
    "Next step is to learn to count backwards. We will do that by creating a rule that reuses the successor-facts we already added, namely :  \n",
    "\n",
    "`prev(A,B) :- next(B,A).`\n",
    "\n",
    "This as we discussed relies on **Unification**.\n",
    "\n",
    "Lets test it :"
   ]
  },
  {
   "cell_type": "code",
   "execution_count": 6,
   "metadata": {
    "collapsed": false,
    "deletable": true,
    "editable": true
   },
   "outputs": [
    {
     "data": {
      "text/plain": [
       "{'Prev': '4'}"
      ]
     },
     "execution_count": 6,
     "metadata": {},
     "output_type": "execute_result"
    }
   ],
   "source": [
    "it.eng.query('prev', ['5', 'Prev'])"
   ]
  },
  {
   "cell_type": "markdown",
   "metadata": {
    "deletable": true,
    "editable": true
   },
   "source": [
    "BTW because of the way unification work we could used **next** to do the same thing, but **prev** is more semantically clear. Do you see Unification works both ways, not like assignment."
   ]
  },
  {
   "cell_type": "code",
   "execution_count": 7,
   "metadata": {
    "collapsed": false,
    "deletable": true,
    "editable": true
   },
   "outputs": [
    {
     "data": {
      "text/plain": [
       "{'Prev': '4'}"
      ]
     },
     "execution_count": 7,
     "metadata": {},
     "output_type": "execute_result"
    }
   ],
   "source": [
    "it.eng.query('next', ['Prev', '5'])"
   ]
  },
  {
   "cell_type": "markdown",
   "metadata": {
    "deletable": true,
    "editable": true
   },
   "source": [
    "Finally **sum** is a recursive clause, build in two parts.\n",
    "\n",
    "```\n",
    "sum(S,0,S).\n",
    "sum(A,B,S) :- next(A,A1), prev(B,B1), sum(A1,B1,S).\n",
    "```\n",
    "\n",
    "First one is the condition that limits the recursion, it has to be physically before the main body, because of the way SDL resolution works ... the search direction in the KDB is TOP => DOWN and within the rule-clause is LEFT => RIGHT.\n",
    "\n",
    "The first two terms in **`sum(X,Y,Z)`** are the two inputs, the third one is there to collect the result.\n",
    "The hint is coming from unification. Once the second term hit ZERO the first term unifies with the third.\n",
    "Lets say the sum is 7, then the final call will look like **`sum(7,0,S)`** which have to unify with **`sum(S,0,S)`**."
   ]
  },
  {
   "cell_type": "code",
   "execution_count": 11,
   "metadata": {
    "collapsed": false,
    "deletable": true,
    "editable": true
   },
   "outputs": [
    {
     "data": {
      "text/plain": [
       "{'S': '7'}"
      ]
     },
     "execution_count": 11,
     "metadata": {},
     "output_type": "execute_result"
    }
   ],
   "source": [
    "it.eng.unify(('sum', '7', '0','S' ), ('sum', 'S', '0','S'), {})"
   ]
  },
  {
   "cell_type": "markdown",
   "metadata": {
    "deletable": true,
    "editable": true
   },
   "source": [
    "Let's look at the second rule. What it does in essence is to find the successor of the first number and the predecessor of the second number. In English this means that we will increase the first number until the second reaches ZERO.\n",
    "\n",
    "The last clause is the recursive call to the same rule-clause this time with the new numbers, until we hit the limiting condition i.e. the second number becomes ZERO. \n",
    "\n",
    "Lets try it :"
   ]
  },
  {
   "cell_type": "code",
   "execution_count": 8,
   "metadata": {
    "collapsed": false,
    "deletable": true,
    "editable": true
   },
   "outputs": [
    {
     "data": {
      "text/plain": [
       "{'Result': '4'}"
      ]
     },
     "execution_count": 8,
     "metadata": {},
     "output_type": "execute_result"
    }
   ],
   "source": [
    "it.eng.query('sum', ['1', '3', 'Result'])"
   ]
  },
  {
   "cell_type": "markdown",
   "metadata": {
    "collapsed": true,
    "deletable": true,
    "editable": true
   },
   "source": [
    "### Misc stuff\n",
    "\n",
    "Now that we know how the summation works, lets explore the other parts we need for our small project."
   ]
  },
  {
   "cell_type": "code",
   "execution_count": 28,
   "metadata": {
    "collapsed": false,
    "deletable": true,
    "editable": true
   },
   "outputs": [
    {
     "data": {
      "image/png": "[encoded data removed]",
      "text/plain": [
       "<matplotlib.figure.Figure at 0x7fbca436fed0>"
      ]
     },
     "metadata": {},
     "output_type": "display_data"
    }
   ],
   "source": [
    "it.imshow(it.digit2img(6)[0])"
   ]
  },
  {
   "cell_type": "markdown",
   "metadata": {
    "deletable": true,
    "editable": true
   },
   "source": [
    "The **.digit2img()** call picks randomly an image for the specified digit from the MNIST database. There are many different images of every digit. We will simulate handwriting by selecting different images.\n",
    "\n",
    "Because **.digit2img()** returns numpy array, we can use **.imshow()** to display the image as I've shown up above.\n",
    "\n",
    "The final thing we need for our task is based on an image to decipher which digit it is. That is the work for the trained NN model."
   ]
  },
  {
   "cell_type": "code",
   "execution_count": 31,
   "metadata": {
    "collapsed": false,
    "deletable": true,
    "editable": true
   },
   "outputs": [
    {
     "data": {
      "text/plain": [
       "6"
      ]
     },
     "execution_count": 31,
     "metadata": {},
     "output_type": "execute_result"
    }
   ],
   "source": [
    "it.predict(it.digit2img(6)[0])"
   ]
  },
  {
   "cell_type": "markdown",
   "metadata": {
    "deletable": true,
    "editable": true
   },
   "source": [
    "Lets view the routine of the whole process :\n",
    "\n",
    "```python\n",
    "\n",
    "\t#given two digits, do the whole process :\n",
    "\t#   - convert digit --> image\n",
    "\t#   - recognize the image as digit\n",
    "\t#   - sum the digits using Bi\n",
    "\t#        digits are recognized as atoms\n",
    "\tdef calc(self, v1, v2) :\n",
    "\t\tlog.info(\"calc> v1:%s, v2:%s\" % (v1, v2))\n",
    "\t\tlog.info(\"first pick image that represent the values (randomly)\")\n",
    "\t\timg1, _ = self.digit2img(v1)\n",
    "\t\timg2, _ = self.digit2img(v2)\n",
    "\t\tlog.info('second: pass trough ConvNN')\n",
    "\t\td1 = self.predict(img1)\n",
    "\t\td2 = self.predict(img2)\n",
    "\t\tlog.info(\"predicted> d1:%s, d2:%s\" % (d1, d2))\n",
    "\t\tlog.info('... now sum them using Bi lang')\n",
    "\t\tmgu = self.sum(d1,d2)\n",
    "\t\tlog.info(\"\\n\\tresult> %s + %s = %s\" % (d1,d2,mgu['Sum']))\n",
    "\n",
    "```\n",
    "\n",
    "Lets try it :"
   ]
  },
  {
   "cell_type": "code",
   "execution_count": 30,
   "metadata": {
    "collapsed": false,
    "deletable": true,
    "editable": true
   },
   "outputs": [
    {
     "name": "stderr",
     "output_type": "stream",
     "text": [
      "calc> v1:3, v2:4\n",
      "first pick image that represent the values (randomly)\n",
      "second: pass trough ConvNN\n",
      "predicted> d1:3, d2:4\n",
      "... now sum them using Bi lang\n",
      "\n",
      "\tresult> 3 + 4 = 7\n"
     ]
    }
   ],
   "source": [
    "it.calc(3,4)"
   ]
  },
  {
   "cell_type": "markdown",
   "metadata": {
    "deletable": true,
    "editable": true
   },
   "source": [
    "That is all folks !!!"
   ]
  },
  {
   "cell_type": "code",
   "execution_count": null,
   "metadata": {
    "collapsed": true,
    "deletable": true,
    "editable": true
   },
   "outputs": [],
   "source": []
  }
 ],
 "metadata": {
  "kernelspec": {
   "display_name": "Python 2",
   "language": "python",
   "name": "python2"
  },
  "language_info": {
   "codemirror_mode": {
    "name": "ipython",
    "version": 2
   },
   "file_extension": ".py",
   "mimetype": "text/x-python",
   "name": "python",
   "nbconvert_exporter": "python",
   "pygments_lexer": "ipython2",
   "version": "2.7.6"
  }
 },
 "nbformat": 4,
 "nbformat_minor": 2
}
