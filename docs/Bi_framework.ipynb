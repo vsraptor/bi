{
 "cells": [
  {
   "cell_type": "markdown",
   "metadata": {
    "deletable": true,
    "editable": true
   },
   "source": [
    "#### [  [HOME](http://ifni.co) | [Bi](http://ifni.co/bi/TOC.html) ]"
   ]
  },
  {
   "cell_type": "code",
   "execution_count": 2,
   "metadata": {
    "collapsed": false,
    "deletable": true,
    "editable": true
   },
   "outputs": [
    {
     "name": "stdout",
     "output_type": "stream",
     "text": [
      "\n"
     ]
    }
   ],
   "source": [
    "%matplotlib inline\n",
    "\n",
    "import sys\n",
    "sys.path.append('../lib')"
   ]
  },
  {
   "cell_type": "markdown",
   "metadata": {
    "deletable": true,
    "editable": true
   },
   "source": [
    "*After this overview the next step is to take dive into basic theoretical aspects before we start implementing anything * :\n",
    "\n",
    "\n",
    "I said that **Bi** is based on large distributed vectors. This layer is superficially below **Symbolic** level that is why it is dubbed **SUB-SYMBOLIC** level.\n",
    "\n",
    "Most programing languages are generally based on alphabetic-discrete-symbols, for Bi at the moment that is the second layer where most of the implementation resides.\n",
    "In the future I want to move as much as possible down to the **SUB-SYMBOLIC** layer.\n",
    "\n",
    "REPRESENTATION\n",
    "===================\n",
    "\n",
    "I call my atomic structure **Semantic Distributed Pointer (SDP)** (*10_000 bits binary*) to differentiate from Nengo/NEF **SP**. (Still they resemble SP in many ways).\n",
    "\n",
    "Rather than just calling them **HyperVectors** (as per Kanerva), the name **SDP** more closely describes the use in Bi.. But no worry, both are Ok.\n",
    "\n",
    "\n",
    "Also to be distinguished by Numenta binary **Sparse Distributed Representation (SDR)**. Which is normaly 2048 bits and is sparse, **SDP** is not.\n",
    "\n",
    "Plus I reserve the right for **SDP** some day to be also real-valued if the need arise ( search : *HRR - Holographic Reduced Representations*, for more info ).\n",
    "\n",
    "\n",
    "Local vs Distributed\n",
    "----------------------------------\n",
    "\n",
    "Information in computers is stored locally, that is, in records with fields.\n",
    "For example let say we want to encode the colors : red, violet, orange and green.\n",
    "If we use local representation we have to use 4 bits, one for each 'feature'.\n",
    "\n",
    "In Local representation one unit is used per concept. This is common also in neural nets.\n",
    "\n",
    "The alternative is to distribute information from many sources over shared units.\n",
    "Thus our previous color example we could use 2 or 3 bits to represent those colors, using multiple overlapping bits for representing a 'feature'. \n",
    "\n",
    "\n",
    "Dense vs Sparse\n",
    "-----------------\n",
    "\n",
    "Representation could also be Dense or Sparse.\n",
    "\n",
    "For example Numenta Grok SDR uses 2048 bit binary, 2% sparse representation i.e. 2% of bits are ONE the rest are ZERO.\n",
    "\n",
    "SDP on the other hand are Dense : 10000 bit binary with 50% sparsity.\n",
    "\n",
    "SDP are sparse in a different sense, they sparsely occupy the space they are allowed to occupy, as you will see in a minute.\n",
    "\n",
    "Similarity\n",
    "--------------------\n",
    "\n",
    "The other feature of vectors which is of utmost importance is the similarity between vectors.\n",
    "Real-valued vectors normally employ geometrical measures like Euclidean distance.\n",
    "In our case we are interested in binary vectors. Here again SDR and SDP differ.\n",
    "\n",
    "SDR uses \"Overlap\" i.e. **count_ones(A AND B)**\n",
    "\n",
    "*SDP uses \"Hamming distance\" i.e. **count_ones(A XOR B)** *\n",
    "\n",
    "\n",
    "Kanerva : BSC (Binary Spatter Code) \n",
    "---------------\n",
    "\n",
    "In **Bi** at the base of it all are binary hyper-vectors or in Bi lingo **Semantic Distributed Pointers (SDP)**.\n",
    "In the current implementation an SDP hyper-vector is **10_000** bits binary vector (size can be changed easily, but according to Kanerva that is the optimal size and who m'I to opine).\n",
    "\n",
    "*Why binary ?*\n",
    "\n",
    "I've been pursuing binary approach to machine intelligence for a long time, because it is no brainer.\n",
    "Simplifies implementation and when people finally awake from \"real-valued\" hegemony ;), we will see some tremendous CPU acceleration in MI programs.\n",
    "Can you imagine there is not even software CPU optimized libraries for large bitarrays in almost any computer language !!! I've checked ;(. BTW FYI computers are machines build on binary !! go figure ...\n",
    "\n",
    "*Why so big ?*\n",
    "\n",
    "The reason is that at those sizes we get the required characteristics for doing clever stuff.\n",
    "\n",
    "The main characteristic of large vector spaces is **ORTHOGONALITY**. (*Very important*).\n",
    "(If you don't know what orthogonal means, think \"perpendicular\" in 2D space).\n",
    "\n",
    "> If we *randomly create 10_000 bits vector, where every bit has 50/50 chance of being 0 or 1*, we are guaranteed that any time we do that the vector will be orthogonal to all the previously created vectors. Wow, isn't that amazing ?\n",
    "\n",
    "(*Or we can talk about normally distributed real-valued vectors, with 100-300 dimensions : HRR*).\n",
    "\n",
    "This is HUGE, think about that for a minute ?!! \n",
    "\n",
    "Every time we create new **SDP** it is guaranteed it will be far away from any previously created one. Perfect for defining new terms (data atoms, symbols), to which we can attach new meaning.\n",
    "\n",
    "Lets do the following thought experiment ...\n",
    "\n",
    "Imagine a sphere and you are at the north pole point. If we assign that **point** the meaning of the word \"car\".\n",
    "Closer to the north pole will be points more similar to \"car\". F.e. \"sport car\", \"mazda\", \"blue car\", \"car with 3 wheels\", \"bus\", rather than concepts like \"chair\", \"sky\", \"grass\" or \"computer\" which will be further away.\n",
    "\n",
    "The majority of the points on the sphere will be on the equator i.e. all car-unrelated terms.\n",
    "In fact the points around the equator are **99.XX%** of all the points, that is why they are so orthogonal. But not to worry, even less than 1% of 2^10_000 points is huge number i.e. you can still have billions of them to represent things similar to \"car\".\n",
    "\n",
    "In **10_000** bit space only billionth of the points are within **4700 bits** range and another billionth further than **5300 bit** away i.e. majority of points are between 4700 and 5300 bits hamming distance. (99.7% to be more precise).\n",
    "\n",
    "Make any point/concept your north-pole and you will see the same distribution comparative to this new position.\n",
    "\n",
    "From this metaphor we can see the benefit of highly **orthogonal** spaces. (BTW in reality the space is hypercube).\n",
    "\n",
    "Creating the knowledge \"point\" (SDP) is the most basic operation we can do to instantiate new meaning/knowledge/data-point/symbol. It is our starting point from where everything blossoms. At the same time being distributed and large guarantees that it will be noise resistant.\n",
    "\n",
    "In traditional programming languages when two pointers point to the same place we say they are identical, but if we change even a single bit they become totally different things, not so with SDP, similar vectors imply similar meanings. The SDP is both the pointer/address and the content/meaning at the same time.\n",
    "\n",
    "*So Semantic Distributed Pointer (SDP) it is.*\n",
    "\n",
    "----"
   ]
  },
  {
   "cell_type": "code",
   "execution_count": 3,
   "metadata": {
    "collapsed": false,
    "deletable": true,
    "editable": true
   },
   "outputs": [],
   "source": [
    "from bi import *"
   ]
  },
  {
   "cell_type": "markdown",
   "metadata": {
    "deletable": true,
    "editable": true
   },
   "source": [
    "*Now that we are aware of the properties of large vector spaces let see what we can do with them.*\n",
    "\n",
    "> **Note:** Once you become familiar with the framework I implore you to also play with **sdp.nbits** by making it smaller number, in **bi.py** file. This will speed the processing by alot. I've been able to make my tests work even with sdp.nbits = 1000, probably 2000 and up is better. One drawback will be that tiny-tuples will not allow 15 terms anymore (i.e. lower noise resistance, but may be the speedup is worth it), this will be a problem if you use large predicates. So test it and give me feedback.\n",
    "\n",
    "\n",
    "\n",
    "# Basic operations\n",
    "\n",
    "\n",
    "\n",
    "## Instantiating a new Symbol, Binding(*) and Bundling(+).\n",
    "\n",
    "Instantiating a new symbol like we said already is done by randomly generating a vector in 10_000 bit space. We are guaranteed by the properties of the space\n",
    "that this new vector will be at approximate distance of ~5000 bits from all the other existing vectors, ergo new concept.\n",
    "We do that by calling :"
   ]
  },
  {
   "cell_type": "code",
   "execution_count": 4,
   "metadata": {
    "collapsed": false,
    "deletable": true,
    "editable": true
   },
   "outputs": [
    {
     "name": "stdout",
     "output_type": "stream",
     "text": [
      "0101110011000101011010101110011011101111100101101001100111111110001111101001010101001101011111000011...\n"
     ]
    }
   ],
   "source": [
    "car = sdp.rand()\n",
    "print car"
   ]
  },
  {
   "cell_type": "markdown",
   "metadata": {
    "deletable": true,
    "editable": true
   },
   "source": [
    "The second basic operation is **Binding** where we combine two vectors in a new one :"
   ]
  },
  {
   "cell_type": "code",
   "execution_count": 5,
   "metadata": {
    "collapsed": true,
    "deletable": true,
    "editable": true
   },
   "outputs": [],
   "source": [
    "color = sdp.rand()\n",
    "red = sdp.rand()\n",
    "color_red = sdp.bind(color, red)"
   ]
  },
  {
   "cell_type": "markdown",
   "metadata": {
    "deletable": true,
    "editable": true
   },
   "source": [
    "or we can just do :"
   ]
  },
  {
   "cell_type": "code",
   "execution_count": 6,
   "metadata": {
    "collapsed": true,
    "deletable": true,
    "editable": true
   },
   "outputs": [],
   "source": [
    "color_red = color * red"
   ]
  },
  {
   "cell_type": "markdown",
   "metadata": {
    "deletable": true,
    "editable": true
   },
   "source": [
    "Binding in SDP is implemented as Exclusive-OR(XOR) operation.\n",
    "\n",
    "(if you write modules, I would recomend you using sdp.xxx() interface)\n",
    "\n",
    "> One consequence of binding is that the new SDP is again **~50% away** from all the existing vectors.\n",
    "\n",
    "lets check :"
   ]
  },
  {
   "cell_type": "code",
   "execution_count": 7,
   "metadata": {
    "collapsed": false,
    "deletable": true,
    "editable": true
   },
   "outputs": [
    {
     "name": "stdout",
     "output_type": "stream",
     "text": [
      "4995\n",
      "4926\n",
      "5011\n"
     ]
    }
   ],
   "source": [
    "print sdp.dist(red, color_red)\n",
    "print sdp.dist(color, color_red)\n",
    "print sdp.dist(car, color_red)"
   ]
  },
  {
   "cell_type": "markdown",
   "metadata": {
    "deletable": true,
    "editable": true
   },
   "source": [
    "See all symbols are ~50% away of each other ... orthogonal.\n",
    "\n",
    "Now we can inspect the content of the bounded vector by probing it :"
   ]
  },
  {
   "cell_type": "code",
   "execution_count": 8,
   "metadata": {
    "collapsed": true,
    "deletable": true,
    "editable": true
   },
   "outputs": [],
   "source": [
    "rv = sdp.probe(color, color_red)"
   ]
  },
  {
   "cell_type": "markdown",
   "metadata": {
    "deletable": true,
    "editable": true
   },
   "source": [
    "guess which vector **'rv'** will be close to : *color, red or car* ?\n",
    "\n",
    "We do that by checking the hamming distance between the target vectors :"
   ]
  },
  {
   "cell_type": "code",
   "execution_count": 9,
   "metadata": {
    "collapsed": false,
    "deletable": true,
    "editable": true
   },
   "outputs": [
    {
     "name": "stdout",
     "output_type": "stream",
     "text": [
      "4978\n",
      "4999\n",
      "0\n"
     ]
    }
   ],
   "source": [
    "print sdp.dist(rv, car) \n",
    "print sdp.dist(rv, color) \n",
    "print sdp.dist(rv, red) # i.e. color * color_red => red "
   ]
  },
  {
   "cell_type": "markdown",
   "metadata": {
    "deletable": true,
    "editable": true
   },
   "source": [
    "i.e. **rv** is similar to vector **red**, in this case equivalent (that wont be the case most of the time).\n",
    "\n",
    "Vectors at distance below **sdp.true_thresh = 42%** of 10000 are assumed similar i.e. any vector at most **4200 bits away** is assumed close. (this threshold can be changed across the system if needed)\n",
    "\n",
    "You can also check the distance this way, let's do it with 'red' this time :"
   ]
  },
  {
   "cell_type": "code",
   "execution_count": 10,
   "metadata": {
    "collapsed": false,
    "deletable": true,
    "editable": true
   },
   "outputs": [
    {
     "name": "stdout",
     "output_type": "stream",
     "text": [
      "5011\n",
      "0\n",
      "4999\n"
     ]
    }
   ],
   "source": [
    "rv = sdp.probe(red, color_red)\n",
    "print rv % car # % same as sdp.dist()\n",
    "print rv % color # i.e. red * color_red => color \n",
    "print rv % red"
   ]
  },
  {
   "cell_type": "markdown",
   "metadata": {
    "deletable": true,
    "editable": true
   },
   "source": [
    "What we see from this is that **Bind** operation is bidirectional i.e. if we think of the pair as variable-value then we can extract value by providing the variable and vs-versa. (In literature those are also called role-filler).\n",
    "In computer languages you can not get the variable name from the value.\n",
    "\n",
    "*That was Bind what about Bundle ?*\n",
    "\n",
    "**Bundling** also called *superposition, set composition, merge, union* ... etc, is the operation by which we still combine vectors.\n",
    "The difference this time is that resulting **SDP** is closer to the operands i.e. not orthogonal.\n",
    "*Bundling is implemented as thresholded-sum*."
   ]
  },
  {
   "cell_type": "code",
   "execution_count": 11,
   "metadata": {
    "collapsed": false,
    "deletable": true,
    "editable": true
   },
   "outputs": [
    {
     "name": "stdout",
     "output_type": "stream",
     "text": [
      "2486\n",
      "2525\n",
      "4968\n"
     ]
    }
   ],
   "source": [
    "car_color = sdp.bundle([car, color])\n",
    "print car_color % car #close\n",
    "print car_color % color #close\n",
    "print car_color % red #far-away"
   ]
  },
  {
   "cell_type": "markdown",
   "metadata": {
    "deletable": true,
    "editable": true
   },
   "source": [
    "see **'car_color'** is now closer to 'car' and 'color', but still far away from 'red'.\n",
    "But the main goal of using **Bundle** as the name implies is to bundle items together and create **STRUCTURE**. F.e. :"
   ]
  },
  {
   "cell_type": "code",
   "execution_count": 12,
   "metadata": {
    "collapsed": true,
    "deletable": true,
    "editable": true
   },
   "outputs": [],
   "source": [
    "vechicle = sdp.rand() #new symbol\n",
    "machine = vechicle * car + color * red #create bundle of bind-pairs i.e. struct"
   ]
  },
  {
   "cell_type": "markdown",
   "metadata": {
    "deletable": true,
    "editable": true
   },
   "source": [
    "this very much resembles how we build structures (with fields) in other languages. The difference though is that the resulting SDP is the **same size** as any of its components, instead of growing in size as we add more fields and data (up to a point then it get too \"noisy\"). It is a sort of on the fly compression and behaves like a holographic image.\n",
    "\n",
    "You can stuff up to 15 items this way before you start getting problems recognizing the constituents.\n",
    "(Empirically tested rather than mathematically proven. I call this tiny-tuple, but you will hear more about it later).\n",
    "\n",
    "Lets poke the bear :"
   ]
  },
  {
   "cell_type": "code",
   "execution_count": 13,
   "metadata": {
    "collapsed": false,
    "deletable": true,
    "editable": true
   },
   "outputs": [
    {
     "name": "stdout",
     "output_type": "stream",
     "text": [
      "2533\n",
      "2485\n",
      "True\n",
      "False\n"
     ]
    }
   ],
   "source": [
    "# machine = vechicle * car + color * red\n",
    "is_car = sdp.probe(vechicle, machine) #extract \"car\" via \"vechicle\" from \"machine\"\n",
    "\n",
    "# now that this is structure the distance is no longer 0, but still <42%\n",
    "print sdp.dist(is_car, car) \n",
    "\n",
    "print red % (color * machine) #in one go, this time using \"color\" to get \"red\".\n",
    "print sdp.sim(red, color * machine) # boolean : are the items similar?\n",
    "print sdp.sim(car, color * machine) # nope"
   ]
  },
  {
   "cell_type": "markdown",
   "metadata": {
    "deletable": true,
    "editable": true
   },
   "source": [
    "So we can still extract data from structure with single operation. This is very important.\n",
    "\n",
    "The interesting part of the whole exercise is that in all the manipulations we did the size of the vectors (SDP) did not change as we built structures.\n",
    "In comparison in traditional programming languages structures like dicts/hashes and arrays need ever more space as we add elements, up to a point of course. The other difference is what we are storing is symbols, which forces us to think in different way. We don't store Strings and Numbers and Dictionaries in our brains. Storing and using SYMBOLS on the other hand is more plausible approximation of how the brain works.\n",
    "\n",
    "#### BSC, bundle-even anomaly ?\n",
    "\n",
    "Because the way Bundling is implemented i.e. \"Thresholded Sum\", bundling **even** number of symbols is \"noisy\".\n",
    "When we are thresholding even number of bits and the numbers of ZEROs is equal to the number of ONEs the process is non deterministic, we randomly select 0 or 1.\n",
    "\n",
    "For this reason it is preferable if you have the option to bundle odd number of items.\n",
    "BTW this is a problem of binary representation. Real valued vectors do not have this problem.\n",
    "\n",
    "\n",
    "Next we have :\n",
    "\n",
    "\n",
    "Mapping (*) and Permutation\n",
    "------------------------\n",
    "\n",
    "\n",
    "Another important operations are **Mapping and Permutation**.\n",
    "\n",
    "*Mapping maps a vector/symbol to different part of SDP space at the same time preserving **SIMILARITY**.*"
   ]
  },
  {
   "cell_type": "code",
   "execution_count": 14,
   "metadata": {
    "collapsed": false,
    "deletable": true,
    "editable": true
   },
   "outputs": [
    {
     "name": "stdout",
     "output_type": "stream",
     "text": [
      "original :  2485\n",
      "mapped :  2485\n"
     ]
    }
   ],
   "source": [
    "# machine = vechicle * car + color * red\n",
    "print \"original : \", color_red % machine #how far away are the symbols\n",
    "\n",
    "mmap = sdp.rand()  #create the map\n",
    "m_machine = sdp.mapit(machine, mmap)\n",
    "m_color_red = sdp.mapit(color_red, mmap)\n",
    "\n",
    "print \"mapped : \", m_color_red % m_machine #how far away are the mapped symbols"
   ]
  },
  {
   "cell_type": "markdown",
   "metadata": {
    "deletable": true,
    "editable": true
   },
   "source": [
    "Internally **sdp.bind(), sdp.probe(), sdp.unbind(), sdp.mapit(), sdp.unmap()** for SDP are implemented using **XOR**, but that is true only for binary representation.\n",
    "Not so for other Holographic Reduced Representation (HRR), so better use the correct function to make your intentions semantically clear.\n",
    "\n",
    "*Permutation is simply swapping bits around. As we did with mapping we have to generate the permutation matrix first.*"
   ]
  },
  {
   "cell_type": "code",
   "execution_count": 32,
   "metadata": {
    "collapsed": false,
    "deletable": true,
    "editable": true
   },
   "outputs": [
    {
     "name": "stdout",
     "output_type": "stream",
     "text": [
      "original :  2533\n",
      "permuted :  2533\n"
     ]
    }
   ],
   "source": [
    "pmx = sdp.rand_perm_mx() #create the permutaion matrix \n",
    "vechicle_car = vechicle * car #bind-pair used in machine, so that they are similar\n",
    "\n",
    "p_machine = sdp.permute(machine, pmx)\n",
    "p_vcar = sdp.permute(vechicle_car, pmx)\n",
    "\n",
    "print \"original : \", vechicle_car % machine\n",
    "print \"permuted : \", p_vcar % p_machine #permutaton also keeps the similarity"
   ]
  },
  {
   "cell_type": "markdown",
   "metadata": {
    "deletable": true,
    "editable": true
   },
   "source": [
    "A cheaper way to do permutation is to simply **shift** the bits."
   ]
  },
  {
   "cell_type": "code",
   "execution_count": 16,
   "metadata": {
    "collapsed": false,
    "deletable": true,
    "editable": true
   },
   "outputs": [
    {
     "name": "stdout",
     "output_type": "stream",
     "text": [
      "0101110011000101011010101110011011101111100101101001100111111110001111101001010101001101011111000011...\n",
      "0001011100110001010110101011100110111011111001011010011001111111100011111010010101010011010111110000...\n",
      "0\n"
     ]
    }
   ],
   "source": [
    "print car\n",
    "print sdp.roll(car, 2)\n",
    "print car % ( sdp.roll(sdp.roll(car, 2), -2) ) # permute forth&back"
   ]
  },
  {
   "cell_type": "markdown",
   "metadata": {
    "deletable": true,
    "editable": true
   },
   "source": [
    "Did you saw that you can reverse roll, the same goes for permutation via **sdp.inv_permute()**."
   ]
  },
  {
   "cell_type": "code",
   "execution_count": 17,
   "metadata": {
    "collapsed": false,
    "deletable": true,
    "editable": true
   },
   "outputs": [
    {
     "data": {
      "text/plain": [
       "0"
      ]
     },
     "execution_count": 17,
     "metadata": {},
     "output_type": "execute_result"
    }
   ],
   "source": [
    "machine % sdp.inv_permute(p_machine, pmx)"
   ]
  },
  {
   "cell_type": "markdown",
   "metadata": {
    "deletable": true,
    "editable": true
   },
   "source": [
    "> NOTE: Big benefit of what we discussed so far is that you can reason about those operation Algebraically, because they support for the most part :\n",
    "  Associativity, Commutativity ... etc. Read papers on the Internet for details.\n",
    "\n",
    "----\n",
    "\n",
    "*Now the drawback of VSA from performance standpoint :*\n",
    "\n",
    "\n",
    "## Cleanup memory\n",
    "\n",
    "\n",
    "For the **VSA (Vector symbolic architechture)** to work, we need one more crucial element, normally not needed in the other architectures.\n",
    "\n",
    "The so called **Cleanup memory**.\n",
    "\n",
    "*Why would you need such thing and what is it ?*\n",
    "\n",
    "Like we said higher cognition requires us to be able to build structures by composing symbols.\n",
    "In the absence of any other information it is not possible to tell whether some arbitrary vector represents a composite entity, an atomic entity, or nothing at all.\n",
    "\n",
    "Also when we want to peek in those structures because we are dealing with distributed information we have to pry out the constituents.\n",
    "As a result we get noisy vectors like we already saw. We have to cleanup those vectors by comparing them to a memory that holds more pristine representations.\n",
    "\n",
    "So the purpose of **Cleanup memory (CUP)** is to provide clean-reference-vectors, so we can de-noise vectors that result from operations on SDP's.\n",
    "\n",
    "There could be many types of cleanup memories.\n",
    "\n",
    "The iconic Cleanup memory is Kanerva-SDM (Sparse distributed memory).\n",
    "Back in the day I implemented SDM with Perl/PDL, but I'm not planing to do that in Bi project until I get more robust system working. BTW it should not be hard to integrate if needed.\n",
    "\n",
    "In the current Bi framework i built more prosaic **CUP** namely a **Lexicon**. Lexicon is a one-to-one cleanup memory, where each data item correspons to a separate-item in the memory. It is not very plausable to how the brain store information, but its simpler implementation allows me to start implementing VSA.\n",
    "\n",
    "**Lexicon** behaves like normal dictionary when accessing symbols (with efficient SDP storage), you give it a symbol name and you get back SDP.\n",
    "\n",
    "But that is not what cleanup memory is about. What is expected from CUP is given a **noisy vector** is to get back the nearest clean SDP.\n",
    "\n",
    "**Lexicon** extends that by returning the **symbol name** of the nearest SDP, instead.\n",
    "You can always fetch the SDP by name if you need. The operation I mentioned is called **.best_match()**.\n",
    "\n",
    "We need the symbol name instead of SDP, so that we can integrate it into upper level algorithms as you will see later. My goal is overtime as I understand the system better to move as much as possible to the lower level.\n",
    "\n",
    "Lets see it in action :"
   ]
  },
  {
   "cell_type": "code",
   "execution_count": 18,
   "metadata": {
    "collapsed": false,
    "deletable": true,
    "editable": true
   },
   "outputs": [
    {
     "data": {
      "text/plain": [
       "0"
      ]
     },
     "execution_count": 18,
     "metadata": {},
     "output_type": "execute_result"
    }
   ],
   "source": [
    "from lexicon import *\n",
    "\n",
    "d = lex()\n",
    "d.add('car')"
   ]
  },
  {
   "cell_type": "code",
   "execution_count": 19,
   "metadata": {
    "collapsed": false,
    "deletable": true,
    "editable": true
   },
   "outputs": [
    {
     "name": "stdout",
     "output_type": "stream",
     "text": [
      "1010101100100001010111010010110010100100111110111000101110001100101000011000111111001111111110001011...\n",
      "1010101100100001010111010010110010100100111110111000101110001100101000011000111111001111111110001011...\n",
      "1010101100100001010111010010110010100100111110111000101110001100101000011000111111001111111110001011...\n",
      "1010101100100001010111010010110010100100111110111000101110001100101000011000111111001111111110001011...\n"
     ]
    }
   ],
   "source": [
    "print d.get('car')\n",
    "print d.g('car')\n",
    "print d.g(0)\n",
    "print d['car']"
   ]
  },
  {
   "cell_type": "code",
   "execution_count": 20,
   "metadata": {
    "collapsed": false,
    "deletable": true,
    "editable": true
   },
   "outputs": [
    {
     "data": {
      "text/plain": [
       "{'blue': 3,\n",
       " 'car': 0,\n",
       " 'circle': 5,\n",
       " 'color': 1,\n",
       " 'red': 2,\n",
       " 'shape': 4,\n",
       " 'square': 6}"
      ]
     },
     "execution_count": 20,
     "metadata": {},
     "output_type": "execute_result"
    }
   ],
   "source": [
    "d.add_items(['color', 'red', 'blue', 'shape', 'circle', 'square'])\n",
    "d.lex"
   ]
  },
  {
   "cell_type": "code",
   "execution_count": 21,
   "metadata": {
    "collapsed": false,
    "deletable": true,
    "editable": true
   },
   "outputs": [
    {
     "data": {
      "text/plain": [
       "7"
      ]
     },
     "execution_count": 21,
     "metadata": {},
     "output_type": "execute_result"
    }
   ],
   "source": [
    "obj = d['shape'] * d['circle'] + d['color'] * d['red'] #create struct\n",
    "d.add('object1', obj) #add the struct to lexicon for future use"
   ]
  },
  {
   "cell_type": "markdown",
   "metadata": {
    "deletable": true,
    "editable": true
   },
   "source": [
    "Now that we have several symbols in the lexicon, lets access/extract information from the struct by cleaning it up against the **lexicon**. The same thing we did with SDP variables."
   ]
  },
  {
   "cell_type": "code",
   "execution_count": 22,
   "metadata": {
    "collapsed": false,
    "deletable": true,
    "editable": true
   },
   "outputs": [
    {
     "name": "stdout",
     "output_type": "stream",
     "text": [
      "circle\n",
      "red\n",
      "object1\n"
     ]
    }
   ],
   "source": [
    "print d.best_match(d['shape'] * obj)\n",
    "print d.bm(d['color'] * obj)\n",
    "print d.bm(obj)"
   ]
  },
  {
   "cell_type": "markdown",
   "metadata": {
    "deletable": true,
    "editable": true
   },
   "source": [
    "The best-match is very expensive operation that is why as you would see later i employed different tactics to make overall system speed better. "
   ]
  },
  {
   "cell_type": "code",
   "execution_count": 23,
   "metadata": {
    "collapsed": false,
    "deletable": true,
    "editable": true
   },
   "outputs": [
    {
     "data": {
      "text/plain": [
       "            car : 1010101100100001010111010010110010100100111110111000101110001100101000011000111111001111111110001011... ...\n",
       "          color : 0010110100010001000101010100001010100011001100100001001100001011100000010000010001011000010111101110... ...\n",
       "            red : 0001000001100011110000000011010101111001011010010100010001111111110011100110111001110101101011011101... ...\n",
       "           blue : 0001011000110110011101110010001000001110110011111110010010011111010101001100001111111111001100110010... ...\n",
       "          shape : 0010100011011111101101001111010100100101001111001001101111010000101000010001111010110101100100010001... ...\n",
       "         circle : 1101010001001100100000010010010001111110111101001110100001010000000011011101001111011001001010110011... ...\n",
       "         square : 1010100010111101111101110111010101001101110001110000100001011011001000000010001100001110101001100101... ...\n",
       "        object1 : 0111110011110010100101010111011111011010010110010111011101100000101011110110110101101100101110110011... ..."
      ]
     },
     "execution_count": 23,
     "metadata": {},
     "output_type": "execute_result"
    }
   ],
   "source": [
    "d"
   ]
  },
  {
   "cell_type": "markdown",
   "metadata": {
    "deletable": true,
    "editable": true
   },
   "source": [
    "As I mentioned already all the SDP are stored compactly as a bitarray and will dynamically grow to accommodate new entries.\n",
    "\n",
    "----"
   ]
  },
  {
   "cell_type": "markdown",
   "metadata": {
    "deletable": true,
    "editable": true
   },
   "source": [
    "## Structures\n",
    "\n",
    "With operations we learned so far and the knowledge how to use CUP's we have the basic process of how to build structures by composition and decomposition. Let see some examples :\n",
    "\n",
    "### Tiny tuple\n",
    "\n",
    "I tested experimentally how many pairs-of-binds maximum can be bundled in a single SDP with 100% success  extracting the items. The number is 15.\n",
    "\n",
    "So I call this structure **tiny-tuple**. Here is how it looks visually.\n",
    "\n",
    "` a1 * b1 + a2 * b2 + a3 * b3 + .... + a15 * b15 `\n",
    "\n",
    "Version 0.1 of Bi-language is wholly based only on tiny-tuple, no other structure is used yet.\n",
    "\n",
    "\n",
    "### Sequences\n",
    "\n",
    "There are many ways to represent sequences. \n",
    "\n",
    "If we use the symbol **\\*>** to signify permutation and **<\\*** inverse permutation then here is one way to encode sequence.\n",
    "\n",
    "> seq = a \\*> b + b \\*> c + c \\*> d + d \\*> e + ... ;  X <\\* seq , return next element in seq\n",
    "\n",
    "\n",
    "You can manually do this chaining, but for easy testing I have build simple extension for ipython that you can use to experiment quickly some ideas before coding them down. (By default this extension creates for you symbols @a to @z. To create new symbol use double **at** i.e. @@new_sym)\n",
    "So we will first load the extension then create the sequence :"
   ]
  },
  {
   "cell_type": "code",
   "execution_count": 24,
   "metadata": {
    "collapsed": false,
    "deletable": true,
    "editable": true
   },
   "outputs": [],
   "source": [
    "%load_ext bi_ip_ext"
   ]
  },
  {
   "cell_type": "code",
   "execution_count": 25,
   "metadata": {
    "collapsed": false,
    "deletable": true,
    "editable": true
   },
   "outputs": [
    {
     "name": "stdout",
     "output_type": "stream",
     "text": [
      "@seq = @a *> @b + @b *> @c + @c *> @d\n",
      "Value\n",
      " +- val True\n",
      " `- vtype 'bool'\n"
     ]
    },
    {
     "data": {
      "text/plain": [
       "Value(...)"
      ]
     },
     "execution_count": 25,
     "metadata": {},
     "output_type": "execute_result"
    }
   ],
   "source": [
    "%do @seq = @a *> @b + @b *> @c + @c *> @d"
   ]
  },
  {
   "cell_type": "markdown",
   "metadata": {
    "deletable": true,
    "editable": true
   },
   "source": [
    "Now we can query it. Again using best-match to cleanup/find the symbol."
   ]
  },
  {
   "cell_type": "code",
   "execution_count": 26,
   "metadata": {
    "collapsed": false,
    "deletable": true,
    "editable": true
   },
   "outputs": [
    {
     "name": "stdout",
     "output_type": "stream",
     "text": [
      "bm: (@a <* @seq)\n",
      "Value\n",
      " +- val 'b'\n",
      " `- vtype 'string'\n"
     ]
    },
    {
     "data": {
      "text/plain": [
       "Value(...)"
      ]
     },
     "execution_count": 26,
     "metadata": {},
     "output_type": "execute_result"
    }
   ],
   "source": [
    "%do bm: (@a <* @seq)"
   ]
  },
  {
   "cell_type": "code",
   "execution_count": 27,
   "metadata": {
    "collapsed": false,
    "deletable": true,
    "editable": true
   },
   "outputs": [
    {
     "name": "stdout",
     "output_type": "stream",
     "text": [
      "bm: (@b <* @seq)\n",
      "Value\n",
      " +- val 'c'\n",
      " `- vtype 'string'\n"
     ]
    },
    {
     "data": {
      "text/plain": [
       "Value(...)"
      ]
     },
     "execution_count": 27,
     "metadata": {},
     "output_type": "execute_result"
    }
   ],
   "source": [
    "%do bm: (@b <* @seq)"
   ]
  },
  {
   "cell_type": "code",
   "execution_count": 28,
   "metadata": {
    "collapsed": false,
    "deletable": true,
    "editable": true
   },
   "outputs": [
    {
     "name": "stdout",
     "output_type": "stream",
     "text": [
      "bm: (@c <* @seq)\n",
      "Value\n",
      " +- val 'd'\n",
      " `- vtype 'string'\n"
     ]
    },
    {
     "data": {
      "text/plain": [
       "Value(...)"
      ]
     },
     "execution_count": 28,
     "metadata": {},
     "output_type": "execute_result"
    }
   ],
   "source": [
    "%do bm: (@c <* @seq)"
   ]
  },
  {
   "cell_type": "code",
   "execution_count": 29,
   "metadata": {
    "collapsed": false,
    "deletable": true,
    "editable": true
   },
   "outputs": [
    {
     "name": "stdout",
     "output_type": "stream",
     "text": [
      "bm: (@d <* @seq)\n",
      "Value\n",
      " +- val None\n",
      " `- vtype 'string'\n"
     ]
    },
    {
     "data": {
      "text/plain": [
       "Value(...)"
      ]
     },
     "execution_count": 29,
     "metadata": {},
     "output_type": "execute_result"
    }
   ],
   "source": [
    "%do bm: (@d <* @seq)"
   ]
  },
  {
   "cell_type": "markdown",
   "metadata": {
    "deletable": true,
    "editable": true
   },
   "source": [
    "This example illustrate something you have to have in mind when building structures.\n",
    "If you were observant you may have asked yourself, why on earth would I need to use permutation, couldn't we just use normal binding.\n",
    "We can't ! because if you look again symbols in the sequence repeat, for example we have bind pairs **a \\* b** and **b \\* c**, where **b** is in both pairs.\n",
    "So how do we know when we probe with **b** which pair are we querying.\n",
    "To emulate one-directional binding we use permutation **a \\*> b**, this way bounded pair behave more like variable-value binding.\n",
    "\n",
    "You can also use **sdp.roll()** to do the same thing, because the ipython-extension use only one and the same permutation matrix for all  **\\*>** cases you are better experimenting with roll."
   ]
  },
  {
   "cell_type": "code",
   "execution_count": 30,
   "metadata": {
    "collapsed": false,
    "deletable": true,
    "editable": true
   },
   "outputs": [
    {
     "name": "stdout",
     "output_type": "stream",
     "text": [
      "@seq2 = @a 5> @b + @b 5> @c + @c 5> @d\n",
      "Value\n",
      " +- val True\n",
      " `- vtype 'bool'\n"
     ]
    },
    {
     "data": {
      "text/plain": [
       "Value(...)"
      ]
     },
     "execution_count": 30,
     "metadata": {},
     "output_type": "execute_result"
    }
   ],
   "source": [
    "%do @seq2 = @a 5> @b + @b 5> @c + @c 5> @d"
   ]
  },
  {
   "cell_type": "code",
   "execution_count": 31,
   "metadata": {
    "collapsed": false,
    "deletable": true,
    "editable": true
   },
   "outputs": [
    {
     "name": "stdout",
     "output_type": "stream",
     "text": [
      "bm: (@a <5 @seq2)\n",
      "Value\n",
      " +- val 'b'\n",
      " `- vtype 'string'\n"
     ]
    },
    {
     "data": {
      "text/plain": [
       "Value(...)"
      ]
     },
     "execution_count": 31,
     "metadata": {},
     "output_type": "execute_result"
    }
   ],
   "source": [
    "%do bm: (@a <5 @seq2)"
   ]
  },
  {
   "cell_type": "markdown",
   "metadata": {
    "deletable": true,
    "editable": true
   },
   "source": [
    "Here are other ways to represent sequence :\n",
    "\n",
    "- seq = a + a \\* b + a \\* b \\* c ...; ==> probe(a), probe(ab) ...\n",
    "- seq = 1 \\* a + 2 \\* b + 3 \\* c + 4 \\* d + ... ; can be seen as tiny-tuple too\n",
    "\n",
    "Of course all those representations suffer from the same limitations of how many bind pairs you can stuff in single SDP ... 15 !\n",
    "To solve this problem we need to build hierarchies.\n",
    "\n",
    "----"
   ]
  },
  {
   "cell_type": "markdown",
   "metadata": {
    "deletable": true,
    "editable": true
   },
   "source": [
    "### Hierarchical and relational structures\n",
    "\n",
    "Instead of trying to put all our eggs in single SDP we can spread the structure in many SDP's.\n",
    "We can do that by building interdependent SDP's i.e. build hierarchy.\n",
    "\n",
    "For example a sequence may look like this :\n",
    "\n",
    "> seq = ab + ab \\* cd; ab = a + a \\* b ; cd = c + c \\* d\n",
    "\n",
    "One additional decision we have to make when building hierarchical structure is to decide if we are going to use single Cleanup memory(CUP) or multiple. If we use multiple how do we split them, based on hierarchy level, scope, both ... other ?\n",
    "\n",
    "Lists can also be represented as hierarchy.\n",
    "\n",
    "Version 0.2 will be all about hierarchical structures.\n",
    "One of the reasons I decided to go with Prolog-like interpreter is the intrinsic handling of relational and hierarchical structures, for languages as Python they are outside realm.\n",
    "\n",
    "Currently Bi engine Unification process is capable of handling hierarchical structures, the parser may require some small modifications to handle expressions, the problem is the Knowledge DB.\n",
    "There are many options of how to build up hierarchiacal structures, that is why I postponed it for later."
   ]
  },
  {
   "cell_type": "code",
   "execution_count": null,
   "metadata": {
    "collapsed": true,
    "deletable": true,
    "editable": true
   },
   "outputs": [],
   "source": []
  }
 ],
 "metadata": {
  "kernelspec": {
   "display_name": "Python 2",
   "language": "python",
   "name": "python2"
  },
  "language_info": {
   "codemirror_mode": {
    "name": "ipython",
    "version": 2
   },
   "file_extension": ".py",
   "mimetype": "text/x-python",
   "name": "python",
   "nbconvert_exporter": "python",
   "pygments_lexer": "ipython2",
   "version": "2.7.6"
  }
 },
 "nbformat": 4,
 "nbformat_minor": 2
}
