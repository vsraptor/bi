{
 "cells": [
  {
   "cell_type": "markdown",
   "metadata": {
    "deletable": true,
    "editable": true
   },
   "source": [
    "#### [  [HOME](http://ifni.co) | [Bi](http://ifni.co/bi/TOC.html) ]"
   ]
  },
  {
   "cell_type": "code",
   "execution_count": 2,
   "metadata": {
    "collapsed": true,
    "deletable": true,
    "editable": true
   },
   "outputs": [],
   "source": [
    "%matplotlib inline\n",
    "\n",
    "import sys\n",
    "sys.path.append('../lib')"
   ]
  },
  {
   "cell_type": "markdown",
   "metadata": {
    "deletable": true,
    "editable": true
   },
   "source": [
    "*We spoke about the basic operations like **binding** and **bundling**, but the **sub-symbolic** level allows us to do other operations which are \"composite\" and have no equivalent in non VSA architecture, that is because we can use SDP Algebra as I mentioned.*\n",
    "\n",
    "\n",
    "## Analogy mapping\n",
    "\n",
    "Humans use analogy all the time, it is integral part of intelligence. What if I told you we can mimic a proto form of analogy on syb-symbolic level via vector math. Nooo waaay ! .... way!\n",
    "\n",
    "Here is the idea :\n",
    "\n",
    "$ analogy\\_map = relation * reverse\\_relation $\n",
    "\n",
    "if we do the algebraic manipulation :\n",
    "\n",
    "$ analogy\\_map * relation = reverse\\_relation $\n",
    "\n",
    "because the **bind** operation is two way street. \n",
    "\n",
    "Now we can use the first equation for a **training** operation and the second as **predicting/testing** operation.\n",
    "The important part is that we can do this operation on a whole **structure** too, not just on single term i.e. holistically.\n",
    "Plus this is **one-shot** learning, something you can't do with Neuro-networks.\n",
    "\n",
    "Lets concretize the idea, the relations we will pick are **\"above\"** and correspondingly the reverse **\"below\"**. We will train **\"analogical map\"** that will virtually \"swap\" the position of two relations i.e. make one relation transform to the other. \n",
    "Here is what we have :\n",
    "\n",
    "-- *circle above a square* --\n",
    "\n",
    "$ cas = above + a\\_role1 * circle + a\\_role2 * square $\n",
    "\n",
    "\n",
    "Let see the reverse :\n",
    "\n",
    "-- *square below a circle* --\n",
    "\n",
    "$ sbc = below + b\\_role1 * square + b\\_role2 * circle $\n",
    "\n",
    "\n",
    "Now we learn the mapping (one-shot learning) :\n",
    "\n",
    "$ map = cas * sbc $\n",
    "\n",
    "and then we can apply it to unknown (not trained with) objects. Lets define them, so that we can do the comparison.\n",
    "\n",
    "\n",
    "$ sat = above + a\\_role1 * star + a\\_role2 * triangle $\n",
    "\n",
    "$ tbs = below + b\\_role1 * triangle + b\\_role2 * star $\n",
    "\n",
    "So if we want to transform the \"triangle\" above the \"star' =to=> 'star' below 'triangle', we will bind it with the learned map. Of course it is approximate match. That is vectors for you.\n",
    "\n",
    "`tbs <=~=> map * sat`\n",
    "\n",
    "`sat <=~=> map * tbs`\n",
    "\n",
    "The operation works both ways. \n",
    "\n",
    "If you want it to work only in one direction you should use permutation-bind when defining (have not tested it).\n",
    "\n",
    "These kind of operations are also called **holistic transformations** where one compositional structure is mapped onto another compositional structure without having to first decompose the source representation into its components\n",
    "\n",
    "Ok now that we know the theory, let's try it."
   ]
  },
  {
   "cell_type": "code",
   "execution_count": 3,
   "metadata": {
    "collapsed": true,
    "deletable": true,
    "editable": true
   },
   "outputs": [],
   "source": [
    "from bi import *\n",
    "from lexicon import *\n",
    "\n",
    "x = lex()\n",
    "x.add_items(['above', 'below', 'a1', 'a2', 'b1', 'b2', 'circle', 'square', 'star', 'triangle'])"
   ]
  },
  {
   "cell_type": "markdown",
   "metadata": {
    "deletable": true,
    "editable": true
   },
   "source": [
    "We should use sdp.bundle(), instead of **+**, because of the even-oddity I mentioned earlier /adds too much noise and it may not work/."
   ]
  },
  {
   "cell_type": "code",
   "execution_count": 4,
   "metadata": {
    "collapsed": true,
    "deletable": true,
    "editable": true
   },
   "outputs": [],
   "source": [
    "#training data\n",
    "cas = sdp.bundle([ x['above'], x['a1'] * x['circle'],   x['a2'] * x['square'] ])\n",
    "sbc = sdp.bundle([ x['below'], x['b1'] * x['square'],   x['b2'] * x['circle'] ])\n",
    "\n",
    "#novel/testing data\n",
    "sat = sdp.bundle([ x['above'], x['a1'] * x['star'],     x['a2'] * x['triangle'] ])\n",
    "tbs = sdp.bundle([ x['below'], x['b1'] * x['triangle'], x['b2'] * x['star'] ])\n",
    "\n",
    "#partially closer to the training data : 'square' is used in both at the same position\n",
    "sas = sdp.bundle([ x['above'], x['a1'] * x['star'],     x['a2'] * x['square'] ])\n",
    "sbs = sdp.bundle([ x['below'], x['b1'] * x['square'],   x['b2'] * x['star'] ])\n",
    "\n",
    "#misplased 'square' i.e. novel data\n",
    "sas2 = sdp.bundle([ x['above'], x['a1'] * x['square'],     x['a2'] * x['star'] ])\n",
    "sbs2 = sdp.bundle([ x['below'], x['b1'] * x['star'],   x['b2'] * x['square'] ])"
   ]
  },
  {
   "cell_type": "markdown",
   "metadata": {
    "deletable": true,
    "editable": true
   },
   "source": [
    "Lets learn the map (one-shot learning) :"
   ]
  },
  {
   "cell_type": "code",
   "execution_count": 5,
   "metadata": {
    "collapsed": true,
    "deletable": true,
    "editable": true
   },
   "outputs": [],
   "source": [
    "M = cas * sbc"
   ]
  },
  {
   "cell_type": "markdown",
   "metadata": {
    "deletable": true,
    "editable": true
   },
   "source": [
    "now test it against the **training** example (measuring distance, btw). Seems OK."
   ]
  },
  {
   "cell_type": "code",
   "execution_count": 6,
   "metadata": {
    "collapsed": false,
    "deletable": true,
    "editable": true
   },
   "outputs": [
    {
     "data": {
      "text/plain": [
       "0"
      ]
     },
     "execution_count": 6,
     "metadata": {},
     "output_type": "execute_result"
    }
   ],
   "source": [
    "(M * cas) % sbc"
   ]
  },
  {
   "cell_type": "markdown",
   "metadata": {
    "deletable": true,
    "editable": true
   },
   "source": [
    "Now lets try against the **test** structure, which we did not use in training : "
   ]
  },
  {
   "cell_type": "code",
   "execution_count": 7,
   "metadata": {
    "collapsed": false,
    "deletable": true,
    "editable": true
   },
   "outputs": [
    {
     "data": {
      "text/plain": [
       "3779"
      ]
     },
     "execution_count": 7,
     "metadata": {},
     "output_type": "execute_result"
    }
   ],
   "source": [
    "(M * sat) % tbs"
   ]
  },
  {
   "cell_type": "markdown",
   "metadata": {
    "deletable": true,
    "editable": true
   },
   "source": [
    "In our case as we mentioned the mapping is bi-directional, so :"
   ]
  },
  {
   "cell_type": "code",
   "execution_count": 8,
   "metadata": {
    "collapsed": false,
    "deletable": true,
    "editable": true
   },
   "outputs": [
    {
     "data": {
      "text/plain": [
       "3779"
      ]
     },
     "execution_count": 8,
     "metadata": {},
     "output_type": "execute_result"
    }
   ],
   "source": [
    "(M * tbs) % sat"
   ]
  },
  {
   "cell_type": "markdown",
   "metadata": {
    "deletable": true,
    "editable": true
   },
   "source": [
    "The same using sdp.dist()"
   ]
  },
  {
   "cell_type": "code",
   "execution_count": 9,
   "metadata": {
    "collapsed": false,
    "deletable": true,
    "editable": true
   },
   "outputs": [
    {
     "data": {
      "text/plain": [
       "3779"
      ]
     },
     "execution_count": 9,
     "metadata": {},
     "output_type": "execute_result"
    }
   ],
   "source": [
    "sdp.dist((M * sat), tbs)"
   ]
  },
  {
   "cell_type": "markdown",
   "metadata": {
    "deletable": true,
    "editable": true
   },
   "source": [
    "The distance is ~38%, but we said that a distance below ~42% means that the symbols are similar (sdp.true_thresh). \n",
    "\n",
    "And the same this time the-boolean way :"
   ]
  },
  {
   "cell_type": "code",
   "execution_count": 10,
   "metadata": {
    "collapsed": false,
    "deletable": true,
    "editable": true
   },
   "outputs": [
    {
     "data": {
      "text/plain": [
       "True"
      ]
     },
     "execution_count": 10,
     "metadata": {},
     "output_type": "execute_result"
    }
   ],
   "source": [
    "sdp.sim((M * sat), tbs)"
   ]
  },
  {
   "cell_type": "markdown",
   "metadata": {
    "deletable": true,
    "editable": true
   },
   "source": [
    "Lets also test it with data that **partially** match with the training data :"
   ]
  },
  {
   "cell_type": "code",
   "execution_count": 11,
   "metadata": {
    "collapsed": false,
    "deletable": true,
    "editable": true
   },
   "outputs": [
    {
     "data": {
      "text/plain": [
       "2498"
      ]
     },
     "execution_count": 11,
     "metadata": {},
     "output_type": "execute_result"
    }
   ],
   "source": [
    "sdp.dist((M * sas), sbs)"
   ]
  },
  {
   "cell_type": "markdown",
   "metadata": {
    "deletable": true,
    "editable": true
   },
   "source": [
    "The distance as expected is smaller ~25%. \n",
    "\n",
    "Once more but this time 'square' is placed in the 'wrong' position i.e. it will represent again in a sense novell data, ergo distance again becomes ~37%."
   ]
  },
  {
   "cell_type": "code",
   "execution_count": 12,
   "metadata": {
    "collapsed": false,
    "deletable": true,
    "editable": true
   },
   "outputs": [
    {
     "data": {
      "text/plain": [
       "3852"
      ]
     },
     "execution_count": 12,
     "metadata": {},
     "output_type": "execute_result"
    }
   ],
   "source": [
    "sdp.dist((M * sas2), sbs2)"
   ]
  },
  {
   "cell_type": "markdown",
   "metadata": {
    "deletable": true,
    "editable": true
   },
   "source": [
    "And finally lets test against random SDP, to see if they are orthogonal."
   ]
  },
  {
   "cell_type": "code",
   "execution_count": 13,
   "metadata": {
    "collapsed": false,
    "deletable": true,
    "editable": true
   },
   "outputs": [
    {
     "data": {
      "text/plain": [
       "5009"
      ]
     },
     "execution_count": 13,
     "metadata": {},
     "output_type": "execute_result"
    }
   ],
   "source": [
    "sdp.dist((M * sat), sdp.rand())"
   ]
  },
  {
   "cell_type": "markdown",
   "metadata": {
    "deletable": true,
    "editable": true
   },
   "source": [
    "That ends our exploration of analogy mapping, but I suppose you can guess that there is big unexplored territory in the sub-symbolic space for other ways of building composite-operations on structures, if you follow the ideas described in this article. \n",
    "\n",
    "You can see more detailed test at **'test/analogy_mapping.py'**."
   ]
  },
  {
   "cell_type": "markdown",
   "metadata": {
    "deletable": true,
    "editable": true
   },
   "source": [
    "----\n",
    "\n",
    "## Categorization\n",
    "\n",
    "Another common human trait is **Categorization** or said it otherwise **Concept formation**.\n",
    "Here again **sub-symbolic** operations can help us.\n",
    "Lets try very rudimentary categorization.\n",
    "\n",
    "**Categorization** is complex process and can be divided to at least two sub-phases.\n",
    "\n",
    " - pattern recognition / grounding : were we associate the external pattern or behavior to a symbol.\n",
    " - symbol/s adjustments : were we adjust the meaning of the symbol making it similar or dissimilar to other symbols i.e. clustering.\n",
    " \n",
    "In the current tutorial we are interested of the simplified second phase. \n",
    "\n",
    "For the purpose of this example we have several instances of chairs and we want to crystallize from them the concept of 'chairs'. (BTW we can ground those symbols on NN-Labels as we did with the 'summing' example)."
   ]
  },
  {
   "cell_type": "code",
   "execution_count": 14,
   "metadata": {
    "collapsed": false,
    "deletable": true,
    "editable": true
   },
   "outputs": [],
   "source": [
    "x.add_items(['wooden_chair', 'metal_chair', 'special_chair', 'wooden_table', 'chair'])"
   ]
  },
  {
   "cell_type": "markdown",
   "metadata": {
    "deletable": true,
    "editable": true
   },
   "source": [
    "As a prerequisite we know those chairs have to be 'closer', but by default all the symbols are orthogonal on instantiation. We need a way to make them more similar, for this reason we will use an **anchor** that serves the purpose of the **category** of **chairs**."
   ]
  },
  {
   "cell_type": "code",
   "execution_count": 15,
   "metadata": {
    "collapsed": false,
    "deletable": true,
    "editable": true
   },
   "outputs": [
    {
     "name": "stdout",
     "output_type": "stream",
     "text": [
      "4929\n",
      "4946\n",
      "5025\n",
      "False\n"
     ]
    }
   ],
   "source": [
    "#initially chairs are orthogonal to the concept\n",
    "print x['wooden_chair'] % x['chair']\n",
    "print x['metal_chair'] % x['chair']\n",
    "\n",
    "#the instances themselves are also dissimilar by default, the goal: make them similar\n",
    "print x['wooden_chair'] % x['metal_chair']\n",
    "print sdp.sim(x['wooden_chair'], x['metal_chair'])"
   ]
  },
  {
   "cell_type": "markdown",
   "metadata": {
    "deletable": true,
    "editable": true
   },
   "source": [
    "We know that the **bundle** operation aside from bundling also result in a vector closer to its operands (by hamming distance). \n",
    "\n",
    "So if we bundle every type of chair with the 'chair-category'-SDP we will move the vectors towards it, making them at the same time more similar themselves. (Of course if we use lexicon as we do here we have to update them using the **.set()** method)."
   ]
  },
  {
   "cell_type": "code",
   "execution_count": 16,
   "metadata": {
    "collapsed": true,
    "deletable": true,
    "editable": true
   },
   "outputs": [],
   "source": [
    "new_wc = x['wooden_chair'] + x['chair']\n",
    "x.set('wooden_chair', new_wc)\n",
    "\n",
    "new_mc = x['metal_chair'] + x['chair']\n",
    "x.set('metal_chair', new_mc)"
   ]
  },
  {
   "cell_type": "markdown",
   "metadata": {
    "deletable": true,
    "editable": true
   },
   "source": [
    "Lets compare again the updated chairs :"
   ]
  },
  {
   "cell_type": "code",
   "execution_count": 17,
   "metadata": {
    "collapsed": false,
    "deletable": true,
    "editable": true
   },
   "outputs": [
    {
     "name": "stdout",
     "output_type": "stream",
     "text": [
      "3776\n",
      "True\n"
     ]
    }
   ],
   "source": [
    "print x['wooden_chair'] % x['metal_chair']\n",
    "print sdp.sim(x['wooden_chair'], x['metal_chair'])"
   ]
  },
  {
   "cell_type": "markdown",
   "metadata": {
    "deletable": true,
    "editable": true
   },
   "source": [
    "Now the distance shrunk, both towards the other chairs and the chair-concept."
   ]
  },
  {
   "cell_type": "code",
   "execution_count": 18,
   "metadata": {
    "collapsed": false,
    "deletable": true,
    "editable": true
   },
   "outputs": [
    {
     "name": "stdout",
     "output_type": "stream",
     "text": [
      "2498\n",
      "2508\n"
     ]
    }
   ],
   "source": [
    "print x['wooden_chair'] % x['chair']\n",
    "print x['metal_chair'] % x['chair']"
   ]
  },
  {
   "cell_type": "markdown",
   "metadata": {
    "deletable": true,
    "editable": true
   },
   "source": [
    "Also the modified chairs are still orthogonal to the rest of the symbols."
   ]
  },
  {
   "cell_type": "code",
   "execution_count": 19,
   "metadata": {
    "collapsed": false,
    "deletable": true,
    "editable": true
   },
   "outputs": [
    {
     "name": "stdout",
     "output_type": "stream",
     "text": [
      "5044\n",
      "4994\n"
     ]
    }
   ],
   "source": [
    "print x['wooden_chair'] % x['wooden_table']\n",
    "print x['metal_chair'] % x['wooden_table']"
   ]
  },
  {
   "cell_type": "markdown",
   "metadata": {
    "deletable": true,
    "editable": true
   },
   "source": [
    "As I said this is rudimentary categorization, just to give you yet another idea of how to use the **sub-symbolic  algebra**. As I'm experimenting, I'm also contemplating a ways to integrate the SDP-algebra into the higher levels, such as the Prolog syntax, this way the symbols themselves can morph to more closely resemble the problem we are trying to solve.\n",
    "\n",
    "\n",
    "### Round two\n",
    "\n",
    "Lets try it differently. \n",
    "\n",
    "This time we would use SDP **structures** to represent different types of chairs i.e. we will build them from more basic atoms, rather than being atomic in the first place.\n",
    "\n",
    "Remember SDPs less that **42%** apart are counted similar. I normally use dollar-symbols as a slot-name when building structures (or role if we think in role-filler terms), unless there is better way to describe the bind-pair."
   ]
  },
  {
   "cell_type": "code",
   "execution_count": 21,
   "metadata": {
    "collapsed": true,
    "deletable": true,
    "editable": true
   },
   "outputs": [],
   "source": [
    "x.erase() #clear all the symbols from the lexer\n",
    "#... and add the new basic atoms\n",
    "x.add_items(['wood', 'metal', 'table', 'chair', '$1', '$2', 'isa', 'furniture'])"
   ]
  },
  {
   "cell_type": "code",
   "execution_count": 22,
   "metadata": {
    "collapsed": true,
    "deletable": true,
    "editable": true
   },
   "outputs": [],
   "source": [
    "# create wooden-chair symbol-structure\n",
    "wc = x['$1'] * x['wood'] + x['isa'] * x['chair']\n",
    "# create metal-chair symbol-structure\n",
    "mc = x['$1'] * x['metal'] + x['isa'] * x['chair']"
   ]
  },
  {
   "cell_type": "markdown",
   "metadata": {
    "deletable": true,
    "editable": true
   },
   "source": [
    "both chairs should be similar because they both contain the 'isa * chair' bind category."
   ]
  },
  {
   "cell_type": "code",
   "execution_count": 23,
   "metadata": {
    "collapsed": false,
    "deletable": true,
    "editable": true
   },
   "outputs": [
    {
     "data": {
      "text/plain": [
       "3732"
      ]
     },
     "execution_count": 23,
     "metadata": {},
     "output_type": "execute_result"
    }
   ],
   "source": [
    "wc % mc"
   ]
  },
  {
   "cell_type": "markdown",
   "metadata": {
    "deletable": true,
    "editable": true
   },
   "source": [
    "but they will still be orthogonal to 'chair' itself, because it was included as bind-pair in the structure not as standalone item."
   ]
  },
  {
   "cell_type": "code",
   "execution_count": 24,
   "metadata": {
    "collapsed": false,
    "deletable": true,
    "editable": true
   },
   "outputs": [
    {
     "data": {
      "text/plain": [
       "5001"
      ]
     },
     "execution_count": 24,
     "metadata": {},
     "output_type": "execute_result"
    }
   ],
   "source": [
    "wc % x['chair']"
   ]
  },
  {
   "cell_type": "markdown",
   "metadata": {
    "deletable": true,
    "editable": true
   },
   "source": [
    "Here is the correct way to compare it :"
   ]
  },
  {
   "cell_type": "code",
   "execution_count": 30,
   "metadata": {
    "collapsed": false,
    "deletable": true,
    "editable": true
   },
   "outputs": [
    {
     "name": "stdout",
     "output_type": "stream",
     "text": [
      "2473\n",
      "2463\n",
      "chair\n"
     ]
    }
   ],
   "source": [
    "print wc % ( x['isa'] * x['chair'] )\n",
    "print mc % ( x['isa'] * x['chair'] )\n",
    "# or you can use best-match to get the symbol name\n",
    "print x.bm(x['isa'] * wc)"
   ]
  },
  {
   "cell_type": "markdown",
   "metadata": {
    "deletable": true,
    "editable": true
   },
   "source": [
    "Now lets apply the first categorisation rule on the structured-chairs, namely make them super-category 'furniture'."
   ]
  },
  {
   "cell_type": "code",
   "execution_count": 28,
   "metadata": {
    "collapsed": true,
    "deletable": true,
    "editable": true
   },
   "outputs": [],
   "source": [
    "#furniture-wooden-chair\n",
    "fwc = wc + x['furniture']\n",
    "#furniture-metal-chair\n",
    "fmc = mc + x['furniture']"
   ]
  },
  {
   "cell_type": "markdown",
   "metadata": {
    "deletable": true,
    "editable": true
   },
   "source": [
    "As we expected 'furniture-wooden-chair' is close to 'furniture-metal-chair'."
   ]
  },
  {
   "cell_type": "code",
   "execution_count": 32,
   "metadata": {
    "collapsed": false,
    "deletable": true,
    "editable": true
   },
   "outputs": [
    {
     "data": {
      "text/plain": [
       "3439"
      ]
     },
     "execution_count": 32,
     "metadata": {},
     "output_type": "execute_result"
    }
   ],
   "source": [
    "fwc % fmc"
   ]
  },
  {
   "cell_type": "markdown",
   "metadata": {
    "deletable": true,
    "editable": true
   },
   "source": [
    "and 'furniture-wooden-chair' is close to 'wooden-chair' too."
   ]
  },
  {
   "cell_type": "code",
   "execution_count": 34,
   "metadata": {
    "collapsed": false,
    "deletable": true,
    "editable": true
   },
   "outputs": [
    {
     "data": {
      "text/plain": [
       "2469"
      ]
     },
     "execution_count": 34,
     "metadata": {},
     "output_type": "execute_result"
    }
   ],
   "source": [
    "fwc % wc"
   ]
  },
  {
   "cell_type": "markdown",
   "metadata": {
    "deletable": true,
    "editable": true
   },
   "source": [
    "But the important question to ask ourselves is did we ruined the initial structure i.e. can we still extract the roles and fillers."
   ]
  },
  {
   "cell_type": "code",
   "execution_count": 31,
   "metadata": {
    "collapsed": false,
    "deletable": true,
    "editable": true
   },
   "outputs": [
    {
     "name": "stdout",
     "output_type": "stream",
     "text": [
      "3715\n",
      "wood\n",
      "3809\n",
      "3805\n"
     ]
    }
   ],
   "source": [
    "# does 'furniture-wooden-chair' still contain 'wood'\n",
    "print (x['$1'] * fwc) % x['wood']\n",
    "print x.bm(x['$1'] * fwc)\n",
    "\n",
    "#same for 'metal' and 'chair'\n",
    "print (x['$1'] * fmc) % x['metal']\n",
    "print (x['isa'] * fmc) % x['chair']"
   ]
  },
  {
   "cell_type": "markdown",
   "metadata": {
    "deletable": true,
    "editable": true
   },
   "source": [
    "Yes the structure seems to be still intact and we can query it. Of course the more 'categorizations' we apply the less probable is that we will succeed extracting information, but that is in sync with our expectations.\n",
    "\n",
    "It is important that we can peek even one level deep with single operation.\n",
    "The **fuzziness** and at the same time **discreetness** is one of the qualities we are looking for to bridge the gap between **Connectionism** and **Symbolism**. \n"
   ]
  },
  {
   "cell_type": "code",
   "execution_count": null,
   "metadata": {
    "collapsed": true,
    "deletable": true,
    "editable": true
   },
   "outputs": [],
   "source": []
  }
 ],
 "metadata": {
  "kernelspec": {
   "display_name": "Python 2",
   "language": "python",
   "name": "python2"
  },
  "language_info": {
   "codemirror_mode": {
    "name": "ipython",
    "version": 2
   },
   "file_extension": ".py",
   "mimetype": "text/x-python",
   "name": "python",
   "nbconvert_exporter": "python",
   "pygments_lexer": "ipython2",
   "version": "2.7.6"
  }
 },
 "nbformat": 4,
 "nbformat_minor": 2
}
