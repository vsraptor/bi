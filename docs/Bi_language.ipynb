{
 "cells": [
  {
   "cell_type": "markdown",
   "metadata": {},
   "source": [
    "#### [  [HOME](http://ifni.co) | [Bi](http://ifni.co/bi/TOC.html) ]"
   ]
  },
  {
   "cell_type": "code",
   "execution_count": 1,
   "metadata": {
    "collapsed": true,
    "deletable": true,
    "editable": true
   },
   "outputs": [],
   "source": [
    "%matplotlib inline\n",
    "\n",
    "import sys\n",
    "sys.path.append('../lib')"
   ]
  },
  {
   "cell_type": "markdown",
   "metadata": {
    "collapsed": true,
    "deletable": true,
    "editable": true
   },
   "source": [
    "## The decision\n",
    "\n",
    "Knowing large binary spaces, how to do operations in them and building structures may be the base for building high cognition and a good start, but is not enough to enable productive exploration of the possibilities.\n",
    "\n",
    "We need tools to solve more complex problems.\n",
    "First I played around with python abit, look into **[lib/bi_struct.py]**, but the more I experimented the more I thought it is not enough. I needed more symbolic approach I needed something which can be grounded from the get go on VSA (Vector Symbolic Architecture), so I started exploring Prolog.\n",
    "I had familiarity with it for some time.\n",
    "First I tried with some non-obvious tasks to get the feel of symbolic manipulation capabilities, then after creating a [Production system](https://github.com/vsraptor/producton_system) in less than 150 lines of code, I saw how grammatically simple it could be, I was hooked.\n",
    "\n",
    "*So it was decided I would implement Prolog like system on top of VSA.*\n",
    "\n",
    "----"
   ]
  },
  {
   "cell_type": "markdown",
   "metadata": {
    "deletable": true,
    "editable": true
   },
   "source": [
    "I had to start with the smallest possible core, but still show the potential.\n",
    "After some fiddling the result is VERSION 0.1, which consist of :\n",
    "\n",
    "- Using only tiny-tuple, so no hierarchical structures yet. Would have to wait for 0.2\n",
    "- Unification : finding most-general-unifier\n",
    "- SLD Prolog algorithm : this is the backtracking search process of Prolog\n",
    "- no arithmetic, requires hierarchical structures, so v0.2\n",
    "- so far syntax is almost 100% Prolog\n",
    "\n"
   ]
  },
  {
   "cell_type": "markdown",
   "metadata": {
    "deletable": true,
    "editable": true
   },
   "source": [
    "## Design\n",
    "\n",
    "Version 0.1 is build on 3 components :\n",
    "\n",
    "- knowledge database\n",
    "- engine\n",
    "- parser \n",
    "\n",
    "As I said so far I'm using only tiny-tuples.\n",
    "\n",
    "Initially I always try to implement all the components as much as possible as standalone units.\n",
    "It is easier to test and extend them when I'm still unsure of the potential functionality and is easier to replace."
   ]
  },
  {
   "cell_type": "markdown",
   "metadata": {
    "deletable": true,
    "editable": true
   },
   "source": [
    "\n",
    "### Knowledge database (KDB)\n",
    "\n",
    "The purpose of KDB is to store, process and manipulate relational facts and rule-clauses.\n",
    "(I use the name rule-clause, to distinguish it in the future from production rules, which we may need to use if my idea to merge both works out).\n",
    "\n",
    "Any tiny-tuple represent a predicate which is nothing more than a relation consisting of *functor* and *terms* and looks like this :\n",
    "\n",
    "\n",
    "**`functor(term1, term2, ..., term14)`**\n",
    "\n",
    "for example :\n",
    "\n",
    "**`child(luke, vader)`**\n",
    "\n",
    "in SDP format it is represented by the following expression : \n",
    "\n",
    "**`$0 * child + $1 * luke + $2 * vader`**\n",
    "\n",
    "that is stored in a single SDP, of maximum 13 bind-pairs (2 are reserved for internal use if I need them) where dollar symbols play the role of a slot number. In this case we have to know the slot-symbols in advance, so we can unpack the structure easily.\n",
    "All the symbols participating in the expression/predicate are stored into cleanup-lex-memories, thus we can do full reconstruction.\n",
    "\n",
    "That's good for storing facts and predicates, but to perform actions we need to handle rule-clauses.  \n",
    "\n",
    "General **Bi** clause looks like this :\n",
    "\n",
    "**`son(X,Y) :- child(X,Y), male(X).`**\n",
    "\n",
    "*X is son of Y if X is child of Y and X is also male*\n",
    "\n",
    "which is nothing more than a bunch of predicates. So this particular clause can be stored in 3 SDP's, one for every predicate in the format we mentioned above.\n",
    "\n",
    "The role to store and handle all those clauses and related CUPs is the job of the Knowledge Database (KDB)\n",
    "\n",
    "\n",
    "![how it look](imgs/kdb.png)"
   ]
  },
  {
   "cell_type": "markdown",
   "metadata": {
    "deletable": true,
    "editable": true
   },
   "source": [
    "# Engine (Interpreter)\n",
    "\n",
    "The engine role is to implement Unification and search mechanism (I want to replace it with more general search at some point).\n",
    "\n",
    "*What is unification ?*\n",
    "\n",
    "Manna from the sky :). No kidding... it is the ultimate shoehorn.\n",
    "\n",
    "In **Bi** as in **Prolog** variables start with uppercase, otherwise the term is atom (symbol in VSA lingo).\n",
    "\n",
    "Let say we have two relations :\n",
    "\n",
    "**`male(X)`** and  **`male(luke)`**\n",
    "\n",
    "the goal is to find X by matching/unifying the two relations.\n",
    "Said in proper math lingo, finding the **most general unifier (MGU)**.\n",
    "\n",
    "We start by matching the functors, in this case they are both **male**, so we can continue and match the first terms, one is variable the other is value/atom :\n",
    "\n",
    "**`{ X : luke }`**\n",
    "\n",
    "that is our MGU, we now know that **`X=luke`**.\n",
    "\n",
    "If we had to unify the following predicates :\n",
    "\n",
    "**`male(X)`** and  **`male(Y)`**\n",
    "\n",
    "the **MGU** will be :\n",
    "\n",
    "**`{ X : Y }`**\n",
    "\n",
    "which is still valid as long as X and Y are not unified already with contradicting values/atoms, which they are not. But if we had the following one :\n",
    "\n",
    "**`male(vedar)`** and  **`male(luke)`**\n",
    "\n",
    "the unification should fail, because *vedar* and *luke* are different symbols/atoms/persons.\n",
    "\n",
    "The terms we can match can be more complex, consider for example :\n",
    "\n",
    "**`son(X, vader)`** and  **`son(luke, Y)`**\n",
    "\n",
    "> **`{ X : luke, Y : vader }`**\n",
    "\n",
    "or better yet :\n",
    "\n",
    "**`p1(X, p2(atom1))`** and  **`p1(atom2, Y)`**\n",
    "\n",
    "> **`{ X : atom2, Y : p2(atom1) }`**\n",
    "\n",
    "**`p1(X, p2(atom1))`** and  **`p1(atom2, p2(Y))`**\n",
    "\n",
    "> **`{ X : atom2, Y : atom1 }`**\n",
    "\n",
    "and so on ... the unification can become very complex. The **MGU** tells us what replacements we have to make so that the two predicates look the same.\n",
    "\n",
    "So far all the unifications were one-off, what if we had a way to make this a process. What do I mean ?\n",
    "\n",
    "Let's imagine we can build a database with thousands of facts and rules representing relations, now if we could unify against the whole database we can find solutions to complex problems. We just provide the relations and then unification guided by some mechanism can do the job for us.\n",
    "\n",
    "The core of Prolog relies on this process.\n",
    "The mechanism is depth-first tree search with backtracking and is called SLD resolution.\n",
    "\n",
    "Let say that we ask the question : *Who is the son of Vader ?*\n",
    "\n",
    "**`son(X,vader)`**\n",
    "\n",
    "The interpreter start by looping trough the database until it finds rule with a head `son(A,B)`, which may look like :\n",
    "\n",
    "**`son(A,B) :- child(A,B), male(A)`**.\n",
    "\n",
    "\n",
    "Then unification is applied which results in **MGU { X : A, B : vader }**.\n",
    "After that the body of the rule is processed from left to right passing and updating the MGU accordingly. Every predicate of the body becomes a sub-goal which follow the same procedure. If all sub-goals succeed the original query succeeds.\n",
    "\n",
    "If for some reason sub-goal unification fails the interpreter goes one step back and retries the previous sub-goal again (this is called backtracking), but this time the database-search continues forward from position it reached the last time, not from the beginning. If it reaches the end of the database then the subgoal fails.\n",
    "\n",
    "During this process the interpreter keeps track of the MGU at every sub-goal in a stack (choice-points) and on retry it restores the MGU replacing the failed-one.\n",
    "\n",
    "One additional complication of the algorithm is the need to localize and un-localize variables, so that the variables are valid only within the clause scope of execution.\n",
    "F.e. the example above the MGU will more correctly be (the one in the curly brackets):\n",
    "\n",
    "> unify> ['son', 'L0_1', 'vader'] ['son', 'L1_1', 'L1_2'] , {'L0_1': 'L1_1', 'L1_2': 'vader'}\n",
    "\n",
    "\n",
    "where the first number in the localized name is the level (of the sub-goal) and second is the variable relative position from the beginning of the rule-clause.\n",
    "\n",
    "The whole process is one giant unification directed by the SLD mechanism. \n",
    "\n",
    "----\n",
    "\n",
    "Few words about the :\n",
    "\n",
    "#### Implementation\n",
    "\n",
    "The unification is implemented by the mutually-recursive methods **.unify()** and **.unify_vars()**.\n",
    "\n",
    "The SLD algorithm by the mutually-recursive methods **.solve()** and **.solve_goals()**.\n",
    "\n",
    "And backtracking via the generator **.kdb.backtrack()** in **.solve_goals()**.\n",
    "\n",
    "The thing that took me the most time to implement and was the most frustrating was *LOCALIZATION*.\n",
    "If you don't want variable names to \"leak\" and disrupt the unification process you have to localize the variables at entering new clause during execution. It is the same idea in normal languages where variables have a scope of validity.\n",
    "\n",
    "As I said the algorithm uses *STACK* to store intermediate results of unification (choice points), so that backtracking mechanism can retry a goal if the previous chain of search failed.\n",
    "\n"
   ]
  },
  {
   "cell_type": "markdown",
   "metadata": {
    "deletable": true,
    "editable": true
   },
   "source": [
    "### Parser\n",
    "\n",
    "Initially I used [LEPL](http://www.acooke.org/lepl/) for parsing, but it is not supported for a long time, so I switched to [LARK](https://github.com/erezsh/lark).\n",
    "The current grammar is very simple and you can understand it easily, look below.\n",
    "\n",
    "The only tricky part is to distinguish between predicate and struct. Their definitions may look similar, but struct can be a term, where predicate does not."
   ]
  },
  {
   "cell_type": "markdown",
   "metadata": {
    "deletable": true,
    "editable": true
   },
   "source": [
    "\t\t?start : _clause_list\n",
    "\n",
    "\t\tint  : /[0-9]+/\n",
    "\t\tatom : /[a-z][0-9a-zA-z_!?]*/\n",
    "\t\tvar  : /[A-Z][0-9a-zA-z_]*/\n",
    "\t\tfunctor : atom\n",
    "\n",
    "\t\t_clause_list : clause+\n",
    "\t\thead : predicate\n",
    "\t\tbody : _predicates \".\"\n",
    "\t\tfact : predicate \".\"\n",
    "\t\tclause : fact | head \":-\" body\n",
    "\n",
    "\t\tpredicate : atom | functor \"(\" terms \")\" | assignment | expr\n",
    "\t\t_predicates : predicate (\",\" predicate)*\n",
    "\t\t?term : int | atom | var | struct\n",
    "\t\tterms : term (\",\" term)*\n",
    "\t\tstruct : functor \"(\" terms \")\"\n",
    "\n",
    "\t\t?assignment : var \"=\" term\n",
    "\n",
    "\t\t?var_int : var | int\n",
    "\t\texpr : var \"is\" sum\n",
    "\t\t?sum : var_int \"+\" var_int\n",
    "\n",
    "\t\t%import common.WS\n",
    "  \t\t%ignore WS"
   ]
  },
  {
   "cell_type": "markdown",
   "metadata": {
    "deletable": true,
    "editable": true
   },
   "source": [
    "## Components in action\n",
    "\n",
    "We will proceed in the same order.\n",
    "\n",
    "For KDB from functional standpoint you only need to know about **.add_clause(head, [body])**, which is used to add fact or rule-clauses to the database and **.backtrack()** generator which helps implementing Backtracking. \n",
    "\n",
    "The arguments to .add_clause() are dicts with the format you can see below."
   ]
  },
  {
   "cell_type": "code",
   "execution_count": 53,
   "metadata": {
    "collapsed": true,
    "deletable": true,
    "editable": true
   },
   "outputs": [],
   "source": [
    "from kdb import *\n",
    "k = KDB()"
   ]
  },
  {
   "cell_type": "code",
   "execution_count": 54,
   "metadata": {
    "collapsed": false,
    "deletable": true,
    "editable": true
   },
   "outputs": [
    {
     "data": {
      "text/plain": [
       "0"
      ]
     },
     "execution_count": 54,
     "metadata": {},
     "output_type": "execute_result"
    }
   ],
   "source": [
    "k.add_clause({'fun': 'fact'})"
   ]
  },
  {
   "cell_type": "code",
   "execution_count": 55,
   "metadata": {
    "collapsed": false,
    "deletable": true,
    "editable": true
   },
   "outputs": [
    {
     "name": "stdout",
     "output_type": "stream",
     "text": [
      "0> fact.\n",
      "\n"
     ]
    }
   ],
   "source": [
    "print k.listing()"
   ]
  },
  {
   "cell_type": "code",
   "execution_count": 56,
   "metadata": {
    "collapsed": false,
    "deletable": true,
    "editable": true
   },
   "outputs": [
    {
     "data": {
      "text/plain": [
       "2"
      ]
     },
     "execution_count": 56,
     "metadata": {},
     "output_type": "execute_result"
    }
   ],
   "source": [
    "k.add_clause({'fun': 'male', 'terms' : ['luke'] })\n",
    "k.add_clause({'fun': 'child', 'terms' : ['luke', 'vader'] })"
   ]
  },
  {
   "cell_type": "code",
   "execution_count": 57,
   "metadata": {
    "collapsed": false,
    "deletable": true,
    "editable": true
   },
   "outputs": [
    {
     "name": "stdout",
     "output_type": "stream",
     "text": [
      "0> fact.\n",
      "1> male(luke).\n",
      "2> child(luke,vader).\n",
      "\n"
     ]
    }
   ],
   "source": [
    "print k.listing()"
   ]
  },
  {
   "cell_type": "code",
   "execution_count": 58,
   "metadata": {
    "collapsed": false,
    "deletable": true,
    "editable": true
   },
   "outputs": [
    {
     "data": {
      "text/plain": [
       "3"
      ]
     },
     "execution_count": 58,
     "metadata": {},
     "output_type": "execute_result"
    }
   ],
   "source": [
    "k.add_clause({'fun': 'son', 'terms' : ['X', 'Y'] }, [{'fun': 'child', 'terms' : ['X', 'Y'] }, {'fun': 'male', 'terms' : ['X'] }])"
   ]
  },
  {
   "cell_type": "code",
   "execution_count": 59,
   "metadata": {
    "collapsed": false,
    "deletable": true,
    "editable": true
   },
   "outputs": [
    {
     "name": "stdout",
     "output_type": "stream",
     "text": [
      "0> fact.\n",
      "1> male(luke).\n",
      "2> child(luke,vader).\n",
      "3> son(@1,@2) :- child(@1,@2), male(@1).\n",
      "\n"
     ]
    }
   ],
   "source": [
    "print k.listing()"
   ]
  },
  {
   "cell_type": "markdown",
   "metadata": {
    "deletable": true,
    "editable": true
   },
   "source": [
    "But lets not forget that all symbols/atoms are SDP vectors."
   ]
  },
  {
   "cell_type": "code",
   "execution_count": 60,
   "metadata": {
    "collapsed": false,
    "deletable": true,
    "editable": true
   },
   "outputs": [
    {
     "data": {
      "text/plain": [
       "           fact : 1101111110110110100111010010000111001011111100110011111111100010101111110100000000010110001011001001... ...\n",
       "           male : 1101111101100110010111010110110011001010001011101011011011001010101011101110110010101000001111110100... ...\n",
       "           luke : 1101111011100000000110110100001001000111101001011011110110011001110111001111010101001110100100001001... ...\n",
       "          child : 0101010011000000001101011010011100000010111010001000011001000000010101010110001011110110111000010111... ...\n",
       "          vader : 0110101110000111011010010011010111111100110110100011100101110011110110011111000010111001111000011100... ...\n",
       "            son : 1000001101010100001100011110101111011110000111111000001000011101010011001010111000111111001001110011... ..."
      ]
     },
     "execution_count": 60,
     "metadata": {},
     "output_type": "execute_result"
    }
   ],
   "source": [
    "k.atoms"
   ]
  },
  {
   "cell_type": "markdown",
   "metadata": {
    "deletable": true,
    "editable": true
   },
   "source": [
    "Next is the Engine.\n",
    "Let's load for our experiments the Star Wars genealogy database.\n",
    "This also demonstrates how to use all the parts together."
   ]
  },
  {
   "cell_type": "code",
   "execution_count": 61,
   "metadata": {
    "collapsed": true,
    "deletable": true,
    "editable": true
   },
   "outputs": [],
   "source": [
    "from bi_engine import *\n",
    "from bi_parser import *\n",
    "\n",
    "#first create the Knowledge DB\n",
    "kdb = KDB(items=100)\n",
    "# .. create a parser and instruct it to write whatever is parsed to the KDB\n",
    "parser = BiParser(kdb=kdb, write2db=True)\n",
    "# .. parse the file\n",
    "parser.parse('../test/sw_bi_db.pl')\n",
    "# create engine that serves the kdb\n",
    "engine = BiEngine(kdb=kdb)"
   ]
  },
  {
   "cell_type": "code",
   "execution_count": 62,
   "metadata": {
    "collapsed": false,
    "deletable": true,
    "editable": true
   },
   "outputs": [
    {
     "name": "stdout",
     "output_type": "stream",
     "text": [
      "0> female(leia).\n",
      "1> male(luke).\n",
      "2> male(vader).\n",
      "3> male(kylo).\n",
      "4> female(padme).\n",
      "5> male(han).\n",
      "6> male(ruwee).\n",
      "7> female(jobal).\n",
      "8> female(shmi).\n",
      "9> child(luke,vader).\n",
      "10> child(leia,vader).\n",
      "11> child(leia,padme).\n",
      "12> child(kylo,leia).\n",
      "13> child(kylo,han).\n",
      "14> child(luke,padme).\n",
      "15> child(padme,ruwee).\n",
      "16> child(padme,jobal).\n",
      "17> child(vader,shmi).\n",
      "18> son(@1,@2) :- child(@1,@2), male(@1).\n",
      "19> daughter(@1,@2) :- female(@1), child(@1,@2).\n",
      "20> ds(@1,@2) :- daughter(@1,@2).\n",
      "21> ds(@1,@2) :- son(@1,@2).\n",
      "22> grandchild(@1,@2) :- child(@1,@3), child(@3,@2).\n",
      "23> gc_ds(@1,@2) :- ds(@1,@3), ds(@3,@2).\n",
      "24> gcm(@1,@2) :- grandchild(@1,@2), male(@1).\n",
      "25> rgcm(@1,@2) :- male(@1), grandchild(@1,@2).\n",
      "26> bgcm(@1,@2) :- male(@1), grandchild(@1,@2), male(@1).\n",
      "\n"
     ]
    }
   ],
   "source": [
    "print kdb.listing()"
   ]
  },
  {
   "cell_type": "markdown",
   "metadata": {
    "deletable": true,
    "editable": true
   },
   "source": [
    "The Unification part can be experimented w/o the need to touch the rest of the Engine, like this :"
   ]
  },
  {
   "cell_type": "code",
   "execution_count": 63,
   "metadata": {
    "collapsed": false,
    "deletable": true,
    "editable": true
   },
   "outputs": [
    {
     "data": {
      "text/plain": [
       "False"
      ]
     },
     "execution_count": 63,
     "metadata": {},
     "output_type": "execute_result"
    }
   ],
   "source": [
    "engine.unify(['atom'], ['atom2'], {})"
   ]
  },
  {
   "cell_type": "code",
   "execution_count": 64,
   "metadata": {
    "collapsed": false,
    "deletable": true,
    "editable": true
   },
   "outputs": [
    {
     "data": {
      "text/plain": [
       "{}"
      ]
     },
     "execution_count": 64,
     "metadata": {},
     "output_type": "execute_result"
    }
   ],
   "source": [
    "engine.unify(['atom'], ['atom'], {})"
   ]
  },
  {
   "cell_type": "markdown",
   "metadata": {
    "deletable": true,
    "editable": true
   },
   "source": [
    "The *First* and *Second* arguments are the expressions to be unified, the third one is the current substitutions (MGU) (remember .unify() is called recursively, so that they accumulate).\n",
    "Getting back empty dictionary means unification is successful, but there is no substitutions to be done to match the two expressions.\n",
    "\n",
    "We use **UPPER CASE** to specify **Variables**."
   ]
  },
  {
   "cell_type": "code",
   "execution_count": 65,
   "metadata": {
    "collapsed": false,
    "deletable": true,
    "editable": true
   },
   "outputs": [
    {
     "data": {
      "text/plain": [
       "{'X': 'atom'}"
      ]
     },
     "execution_count": 65,
     "metadata": {},
     "output_type": "execute_result"
    }
   ],
   "source": [
    "engine.unify(['X'], ['atom'], {})"
   ]
  },
  {
   "cell_type": "markdown",
   "metadata": {
    "deletable": true,
    "editable": true
   },
   "source": [
    "If we want to match LISTS we just use lists."
   ]
  },
  {
   "cell_type": "code",
   "execution_count": 66,
   "metadata": {
    "collapsed": false,
    "deletable": true,
    "editable": true
   },
   "outputs": [
    {
     "data": {
      "text/plain": [
       "{'X': 'atom', 'Y': ['atom2', 'atom3']}"
      ]
     },
     "execution_count": 66,
     "metadata": {},
     "output_type": "execute_result"
    }
   ],
   "source": [
    "engine.unify([['X', ['atom2', 'atom3']]], [['atom', 'Y']], {})"
   ]
  },
  {
   "cell_type": "code",
   "execution_count": 67,
   "metadata": {
    "collapsed": false,
    "deletable": true,
    "editable": true
   },
   "outputs": [
    {
     "data": {
      "text/plain": [
       "{'X': 'atom', 'Y': ['Z', 'atom2', ['atom3']]}"
      ]
     },
     "execution_count": 67,
     "metadata": {},
     "output_type": "execute_result"
    }
   ],
   "source": [
    "engine.unify([['X', ['Z', 'atom2', ['atom3']]]], [['atom', 'Y']], {})"
   ]
  },
  {
   "cell_type": "markdown",
   "metadata": {
    "deletable": true,
    "editable": true
   },
   "source": [
    "If we want to unify structures for example **predicates** we pass them as a **tuples**, where the first element is always the **functor**. If the functors do not match the unification fails.\n",
    "Note the difference with a list, which does not require the first element to be functor, because the list is just a list."
   ]
  },
  {
   "cell_type": "code",
   "execution_count": 68,
   "metadata": {
    "collapsed": false,
    "deletable": true,
    "editable": true
   },
   "outputs": [
    {
     "data": {
      "text/plain": [
       "{'X': 'Luke'}"
      ]
     },
     "execution_count": 68,
     "metadata": {},
     "output_type": "execute_result"
    }
   ],
   "source": [
    "engine.unify([ ('male', 'X') ], [('male','Luke')], {})"
   ]
  },
  {
   "cell_type": "code",
   "execution_count": 76,
   "metadata": {
    "collapsed": false,
    "deletable": true,
    "editable": true
   },
   "outputs": [
    {
     "data": {
      "text/plain": [
       "False"
      ]
     },
     "execution_count": 76,
     "metadata": {},
     "output_type": "execute_result"
    }
   ],
   "source": [
    "engine.unify([ ('male', 'X') ], [('female','Leia')], {})"
   ]
  },
  {
   "cell_type": "markdown",
   "metadata": {
    "deletable": true,
    "editable": true
   },
   "source": [
    "Did you notice that .unify() supports hierarchical structures.\n",
    "But we can't use them in v0.1 because KDB does not support them yet. There are different ways to make them available, but I haven't decided yet what will be the best way. \n",
    "\n",
    "Once you have a KDB loaded you can do queries against it f.e. :"
   ]
  },
  {
   "cell_type": "code",
   "execution_count": 70,
   "metadata": {
    "collapsed": false,
    "deletable": true,
    "editable": true
   },
   "outputs": [
    {
     "data": {
      "text/plain": [
       "{'X': 'luke'}"
      ]
     },
     "execution_count": 70,
     "metadata": {},
     "output_type": "execute_result"
    }
   ],
   "source": [
    "engine.query('male', ['X'])"
   ]
  },
  {
   "cell_type": "code",
   "execution_count": 71,
   "metadata": {
    "collapsed": false,
    "deletable": true,
    "editable": true
   },
   "outputs": [
    {
     "data": {
      "text/plain": [
       "{'Y': 'leia'}"
      ]
     },
     "execution_count": 71,
     "metadata": {},
     "output_type": "execute_result"
    }
   ],
   "source": [
    "engine.query('son', ['kylo', 'Y'])"
   ]
  },
  {
   "cell_type": "code",
   "execution_count": 73,
   "metadata": {
    "collapsed": false,
    "deletable": true,
    "editable": true
   },
   "outputs": [
    {
     "data": {
      "text/plain": [
       "False"
      ]
     },
     "execution_count": 73,
     "metadata": {},
     "output_type": "execute_result"
    }
   ],
   "source": [
    "engine.query('daughter', ['X', 'leia'])"
   ]
  },
  {
   "cell_type": "code",
   "execution_count": 74,
   "metadata": {
    "collapsed": false,
    "deletable": true,
    "editable": true
   },
   "outputs": [
    {
     "data": {
      "text/plain": [
       "{'X': 'padme'}"
      ]
     },
     "execution_count": 74,
     "metadata": {},
     "output_type": "execute_result"
    }
   ],
   "source": [
    "engine.query('daughter', ['X', 'ruwee'])"
   ]
  },
  {
   "cell_type": "code",
   "execution_count": 72,
   "metadata": {
    "collapsed": false,
    "deletable": true,
    "editable": true
   },
   "outputs": [
    {
     "data": {
      "text/plain": [
       "{'X': 'kylo'}"
      ]
     },
     "execution_count": 72,
     "metadata": {},
     "output_type": "execute_result"
    }
   ],
   "source": [
    "engine.query('grandchild', ['X', 'vader'])"
   ]
  },
  {
   "cell_type": "code",
   "execution_count": 75,
   "metadata": {
    "collapsed": false,
    "deletable": true,
    "editable": true
   },
   "outputs": [
    {
     "data": {
      "text/plain": [
       "{'X': 'luke', 'Y': 'shmi'}"
      ]
     },
     "execution_count": 75,
     "metadata": {},
     "output_type": "execute_result"
    }
   ],
   "source": [
    "engine.query('grandchild', ['X', 'Y'])"
   ]
  },
  {
   "cell_type": "markdown",
   "metadata": {
    "deletable": true,
    "editable": true
   },
   "source": [
    "Again the thing to keep in mind is that all those symbols we are so used to work with are binary vectors they are just temporally brought to life to do the unification."
   ]
  },
  {
   "cell_type": "markdown",
   "metadata": {
    "deletable": true,
    "editable": true
   },
   "source": [
    "## Performance\n"
   ]
  },
  {
   "cell_type": "markdown",
   "metadata": {
    "collapsed": true,
    "deletable": true,
    "editable": true
   },
   "source": [
    "The need to do multiple **.best_match()** calls during unpacking of a predicates to do unification (.unify_sdp()) makes the process very very slow, almost unusable for practical purposes. That is why I use Memoization to speed up the process of resolving noisy SDP's to symbols in the **kdb.bm_soa()** method /best-match symbol or atom, loops trough all the active CUPs to resolve the symbol/.\n",
    "\n",
    "This Memoization is done via python decorator. I implemented several of them :\n",
    "\n",
    " - **@fast** : this make the call fastest, but does not have limit of how much the cache grows.\n",
    " - **@low_mem** : this uses *experimental* Bit-sampled hashing, to lower memory usage.\n",
    "     The memory requirements are smaller the speed is slower than @fast, because there is additional\n",
    "     time required to do the bit sampling. This method also grows the cache indefinetly, but by less.\n",
    " - **@lru(cache_size=100)** : This is the slowest of the three, because it needs to do alot of bookkeeping.\n",
    "     **Last recently used** algorithm expunges the elements as the limit on the cache size is reached, which guarantees that the cache won't grow forever.\n",
    "     \n",
    "\n",
    "I'm also experimenting with bit-sample hashing lexicon (**BSHLex** class). The idea is to hash the 10_000 bit SDP with 1000-2000 bit sample, so that we can speedup the cleanup process. The results as of the writing of this article are still inconclusive, but encouraging. If it works out it can boost speed of **.best_match()** by alot.\n",
    "\n",
    " \n"
   ]
  }
 ],
 "metadata": {
  "kernelspec": {
   "display_name": "Python 2",
   "language": "python",
   "name": "python2"
  },
  "language_info": {
   "codemirror_mode": {
    "name": "ipython",
    "version": 2
   },
   "file_extension": ".py",
   "mimetype": "text/x-python",
   "name": "python",
   "nbconvert_exporter": "python",
   "pygments_lexer": "ipython2",
   "version": "2.7.6"
  }
 },
 "nbformat": 4,
 "nbformat_minor": 2
}
