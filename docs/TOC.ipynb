{
 "cells": [
  {
   "cell_type": "markdown",
   "metadata": {
    "deletable": true,
    "editable": true
   },
   "source": [
    "# [Bi] : Table of Contents"
   ]
  },
  {
   "cell_type": "markdown",
   "metadata": {
    "deletable": true,
    "editable": true
   },
   "source": [
    "- [HOME](http://ifni.co)\n",
    "- [What is Bi](What_is_Bi.html)\n",
    "- [Bi Framework](Bi_framework.html)\n",
    "- [More operations](More_Operations.html)\n",
    "- [Bi Language](Bi_language.html)\n",
    "- [More CUPS](More_CUPS.html)\n",
    "- [Integration with other projects](Integration.html)\n",
    "- [Source code of Bi](https://github.com/vsraptor/bi)\n"
   ]
  },
  {
   "cell_type": "code",
   "execution_count": null,
   "metadata": {
    "collapsed": true,
    "deletable": true,
    "editable": true
   },
   "outputs": [],
   "source": []
  }
 ],
 "metadata": {
  "kernelspec": {
   "display_name": "Python 2",
   "language": "python",
   "name": "python2"
  },
  "language_info": {
   "codemirror_mode": {
    "name": "ipython",
    "version": 2
   },
   "file_extension": ".py",
   "mimetype": "text/x-python",
   "name": "python",
   "nbconvert_exporter": "python",
   "pygments_lexer": "ipython2",
   "version": "2.7.6"
  }
 },
 "nbformat": 4,
 "nbformat_minor": 2
}
