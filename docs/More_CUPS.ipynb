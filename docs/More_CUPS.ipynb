{
 "cells": [
  {
   "cell_type": "markdown",
   "metadata": {},
   "source": [
    "#### [  [HOME](http://ifni.co) | [Bi](http://ifni.co/bi/TOC.html) ]"
   ]
  },
  {
   "cell_type": "code",
   "execution_count": 2,
   "metadata": {
    "collapsed": true,
    "deletable": true,
    "editable": true
   },
   "outputs": [],
   "source": [
    "%matplotlib inline\n",
    "\n",
    "import sys\n",
    "sys.path.append('../lib')"
   ]
  },
  {
   "cell_type": "markdown",
   "metadata": {
    "collapsed": true,
    "deletable": true,
    "editable": true
   },
   "source": [
    "# More CUPS\n",
    "\n",
    "\n",
    "I was learning about Boolean algebra and trying to figure if there are some way that knowledge will help me with Bi.\n",
    "As I was playing with it I discovered yet another property of SDP space.\n",
    "\n",
    "> When you map (XOR) vectors with different sparsity/density, an interesting thing happen. If at least one of the vectors is 50% sparse after the operation the result is always vector with 50% sparsity i.e. mapping operation not only preserves similarity but in a sense converts any vector to SDP.\n",
    "\n",
    "What this means from practical perspective is that we can encode any data type integers, reals, dates, etc... in 10000 bit vector with whatever sparsity, after that we can just map it to become SDP.\n",
    "(I'm still exploring the constraints and ramifications of this discovery, but in the meantime I built a module to provide limited-range Integers)\n",
    "\n",
    "**First the problem :**\n",
    "\n",
    " Lexicon CUP is nice and all, but for every new atom you have to allocate 10_000 bits plus the supporting data structures. Memory footprint by itself won't be a big deal, but the bigger the lexicon become the slower the cleanup-operation becomes (.best_match()).\n",
    " One option is to implement different type of memory. Kaneva SDM for example, but this type of memory does not return symbol-name as Lexicon does, but only the cleaned SDP. \n",
    " \n",
    "So the discovery I made opens a second possibility.\n",
    "\n",
    "**The idea goes like this** : \n",
    "\n",
    "You have data in your own format which you want to integrate as atoms/symbols. What you can do is convert this data somehow to 10_000 bit binary without regard to sparsity and then map it to SDP space.\n",
    "I've already played with Encoders when implementing [bbHTM](http://ifni.co/bbHTM.html), so I could leverage that code.\n",
    "Lets diagram the idea :\n",
    "\n",
    "[Data-type] --> [Encoder] --> [MAPIT] --> [SDP space]\n",
    "\n",
    "[SDP Space] --> [UNMAP] --> [Decode/BestMatch] --> [Data-type]  \n",
    "\n",
    "Keep in mind that the reverse process can go trough Decode or if we have noisy vector trough .best_match()\n",
    "The interesting nuance is if we just need **decoding** we can simply use Encoder/Decoder. \n",
    "Otherwise if we work with noisy vectors it can also play a role of Cleanup memory(CUP).\n",
    "\n",
    "I will call this CUP a **MAPPER** (Encoding/Decoding/Cleanup).\n",
    "\n",
    "\n",
    "### CUP Integer\n",
    "\n",
    "Instead of creating symbol/atom for every number in the range in the CUP memory physically, we will map them virtually to part of the SDP space and will \"intercept\" CUP methods to make it behave like one.\n",
    "\n",
    "In the case of **CUPInteger** internally **ScalarEncoder** generates on demand binary vector where chunk of sequential bits represent different numbers. Then this vector is mapped to part of SDP space. In esence no memory is allocated to store the number-symbol, but it is simply encoded/decoded by the encoder-algorithm.\n",
    "\n",
    "You can have multiple CUPInteger active at the same time, but because they are mapped trough different \"map-symbol\" they will be different/orthogonal even if they happen to represent the same range of numbers."
   ]
  },
  {
   "cell_type": "code",
   "execution_count": 3,
   "metadata": {
    "collapsed": false,
    "deletable": true,
    "editable": true
   },
   "outputs": [
    {
     "name": "stderr",
     "output_type": "stream",
     "text": [
      "> Scalar encoder: min:0, max:100, w:5000, buckets:5000, nb:10000\n"
     ]
    }
   ],
   "source": [
    "from dyn_atoms import *\n",
    "i = CUPInteger(vmin=0, vmax=100, width=5000)"
   ]
  },
  {
   "cell_type": "markdown",
   "metadata": {
    "deletable": true,
    "editable": true
   },
   "source": [
    ".encode() and the .decode() are the standard Encoder methods. "
   ]
  },
  {
   "cell_type": "code",
   "execution_count": 4,
   "metadata": {
    "collapsed": false,
    "deletable": true,
    "editable": true
   },
   "outputs": [
    {
     "data": {
      "text/plain": [
       "25"
      ]
     },
     "execution_count": 4,
     "metadata": {},
     "output_type": "execute_result"
    }
   ],
   "source": [
    "i.decode(i.encode(25))"
   ]
  },
  {
   "cell_type": "markdown",
   "metadata": {
    "deletable": true,
    "editable": true
   },
   "source": [
    "To work in SDP space use those instead. Which **encodes** and then **maps** the value. (BTW: In this specific case even unmapped the encoded values will work in Bi, but I'm coding this for the general case of MAPPER)."
   ]
  },
  {
   "cell_type": "code",
   "execution_count": 5,
   "metadata": {
    "collapsed": false,
    "deletable": true,
    "editable": true
   },
   "outputs": [
    {
     "data": {
      "text/plain": [
       "25"
      ]
     },
     "execution_count": 5,
     "metadata": {},
     "output_type": "execute_result"
    }
   ],
   "source": [
    "i.decode_sdp(i.encode_sdp(25))"
   ]
  },
  {
   "cell_type": "markdown",
   "metadata": {
    "deletable": true,
    "editable": true
   },
   "source": [
    "We can also treat it like **CUP** i.e."
   ]
  },
  {
   "cell_type": "code",
   "execution_count": 6,
   "metadata": {
    "collapsed": false,
    "deletable": true,
    "editable": true
   },
   "outputs": [
    {
     "data": {
      "text/plain": [
       "0001001011001111001101010100111101001001101000111111110110111010100000101001011101011100011101101111..."
      ]
     },
     "execution_count": 6,
     "metadata": {},
     "output_type": "execute_result"
    }
   ],
   "source": [
    "i.get(33)"
   ]
  },
  {
   "cell_type": "code",
   "execution_count": 11,
   "metadata": {
    "collapsed": false,
    "deletable": true,
    "editable": true
   },
   "outputs": [
    {
     "data": {
      "text/plain": [
       "'33'"
      ]
     },
     "execution_count": 11,
     "metadata": {},
     "output_type": "execute_result"
    }
   ],
   "source": [
    "i.bm(i.get(33))"
   ]
  },
  {
   "cell_type": "markdown",
   "metadata": {
    "deletable": true,
    "editable": true
   },
   "source": [
    "Let's simulate a noisy vector :"
   ]
  },
  {
   "cell_type": "code",
   "execution_count": 19,
   "metadata": {
    "collapsed": false,
    "deletable": true,
    "editable": true
   },
   "outputs": [
    {
     "name": "stdout",
     "output_type": "stream",
     "text": [
      "distance : 500\n"
     ]
    },
    {
     "data": {
      "text/plain": [
       "'33'"
      ]
     },
     "execution_count": 19,
     "metadata": {},
     "output_type": "execute_result"
    }
   ],
   "source": [
    "noisy = i.get(33)\n",
    "sdp.flip_bits(noisy, 500) # add noise\n",
    "print \"distance : %s\" % (i.get(33) % noisy)\n",
    "i.bm(noisy)  #resolve the noisy vector"
   ]
  },
  {
   "cell_type": "markdown",
   "metadata": {
    "deletable": true,
    "editable": true
   },
   "source": [
    "Two things to see here, the **.best_match()** does not decode the SDP directly, because as we already know cleanup operations expects noisy vectors. So in this case **.bm()** will search (noisy vectors can't be directly matched against encoded vector) in the **mapped space** for the closest match.\n",
    "What this also means is in some cases the match will be approximate i.e. false negatives are possible.\n",
    "To avoid this we have to select to represent smaller ranges of Integers. In our current case 0-100. \n",
    "\n",
    "Second **.best_match()** returns a string i.e. symbol not integer.\n",
    "\n",
    "So lets repeat use **encode_sdp/decode_sdp** for clean SDPs and **get|bm** for noisy SDPs.\n",
    "\n",
    "I tested CUPInteger for false negatives.\n",
    "In the following image darker color means higher number of false negatives, after taking 100_000 samples (test/cup_integer.py).\n",
    "\n",
    "  - X-axis : represent increasing integer-range\n",
    "  - Y-axis : represent increasing noise\n",
    "\n",
    "![alt text](imgs/cup_integer.png)"
   ]
  },
  {
   "cell_type": "markdown",
   "metadata": {
    "deletable": true,
    "editable": true
   },
   "source": [
    "In case you want it to behave as real integer even ONE false negative is unacceptable.\n",
    "We can see that range of 0-300 fail to recognize the number 5 times out of 100_000 (i.e. 0.00005%) if we flip 2000 bits."
   ]
  },
  {
   "cell_type": "markdown",
   "metadata": {
    "collapsed": true,
    "deletable": true,
    "editable": true
   },
   "source": [
    "#### How do you use CUPInteger in Bi ?\n",
    "\n",
    "Very easy.. just pass an instance of it when creating KDB. F.e. :\n",
    "\n",
    "\t\tints = CUPInteger(vmax=100)\n",
    "\t\tkdb = KDB(items=50, cups=[ints])\n",
    "\n",
    "Normally if you don't use CUPInteger you can still use number-atoms, but as I said earlier this will create additional Lexicon entries (i.e. require more memory).\n",
    "\n",
    "When you pass CUPInteger instance, the **KDB** now will lookup this new CUP in addition to the default ones and if it resolves the number to atom, will not create a new entry in atom-lexicon (*KDB.avivi_atom() and .bm_soa()*).\n",
    "\n"
   ]
  },
  {
   "cell_type": "code",
   "execution_count": null,
   "metadata": {
    "collapsed": true,
    "deletable": true,
    "editable": true
   },
   "outputs": [],
   "source": []
  }
 ],
 "metadata": {
  "kernelspec": {
   "display_name": "Python 2",
   "language": "python",
   "name": "python2"
  },
  "language_info": {
   "codemirror_mode": {
    "name": "ipython",
    "version": 2
   },
   "file_extension": ".py",
   "mimetype": "text/x-python",
   "name": "python",
   "nbconvert_exporter": "python",
   "pygments_lexer": "ipython2",
   "version": "2.7.6"
  }
 },
 "nbformat": 4,
 "nbformat_minor": 2
}
